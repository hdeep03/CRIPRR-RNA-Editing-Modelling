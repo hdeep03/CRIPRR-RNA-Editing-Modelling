{
 "cells": [
  {
   "cell_type": "code",
   "execution_count": null,
   "metadata": {},
   "outputs": [],
   "source": [
    "import numpy\n",
    "from src.models.conv_model import build_model as build_conv_model\n",
    "from src.data_loader.RNASeqLoader import RNASeqDataGenerator\n",
    "from src.models.conv_model import correlation_coefficient_loss, pearson_r"
   ]
  },
  {
   "cell_type": "code",
   "execution_count": null,
   "metadata": {},
   "outputs": [],
   "source": [
    "from tensorflow.keras.models import Sequential\n",
    "from tensorflow.keras.layers import Input, Dense, Conv1D, Dropout, Flatten, BatchNormalization, MaxPool1D, Activation\n",
    "from tensorflow.keras.optimizers import RMSprop\n",
    "import tensorflow as tf\n",
    "\n",
    "def custom_model(dropout):\n",
    "    model = Sequential()\n",
    "    model.add(Input(shape=(101,4)))\n",
    "    model.add(Conv1D(filters=128, kernel_size=32, padding='same'))\n",
    "    model.add(BatchNormalization())\n",
    "    model.add(Activation(\"relu\"))\n",
    "    model.add(Dropout(dropout))\n",
    "    model.add(Conv1D(filters=64, kernel_size=32, padding='same'))\n",
    "    model.add(BatchNormalization())\n",
    "    model.add(Activation(\"relu\"))\n",
    "    model.add(Dropout(dropout))\n",
    "    model.add(Conv1D(filters=64, kernel_size=32, padding='same'))\n",
    "    model.add(BatchNormalization())\n",
    "    model.add(Activation(\"relu\"))\n",
    "    model.add(Dropout(dropout))\n",
    "    model.add(MaxPool1D(pool_size=2, padding=\"same\"))\n",
    "    model.add(Conv1D(filters=32, kernel_size=32, padding='same'))\n",
    "    model.add(BatchNormalization())\n",
    "    model.add(Activation(\"relu\"))\n",
    "    model.add(Dropout(dropout))\n",
    "    model.add(Conv1D(filters=32, kernel_size=32, padding='same'))\n",
    "    model.add(BatchNormalization())\n",
    "    model.add(Activation(\"relu\"))\n",
    "    model.add(Dropout(dropout))\n",
    "    model.add(Conv1D(filters=32, kernel_size=32, padding='same'))\n",
    "    model.add(BatchNormalization())\n",
    "    model.add(Activation(\"relu\"))\n",
    "    model.add(Dropout(dropout))\n",
    "    model.add(MaxPool1D(pool_size=2, padding=\"same\"))\n",
    "    model.add(Flatten())\n",
    "    model.add(Dense(16, activation='relu'))\n",
    "    model.add(Dense(1, activation='sigmoid'))\n",
    "    optimizer = tf.keras.optimizers.RMSprop(decay=0.0005)\n",
    "    model.compile(loss='mse', optimizer=optimizer, metrics=['mae', 'mse', correlation_coefficient_loss, pearson_r])\n",
    "    return model\n",
    "    \n",
    "    "
   ]
  },
  {
   "cell_type": "code",
   "execution_count": null,
   "metadata": {
    "scrolled": false
   },
   "outputs": [],
   "source": [
    "#model = build_conv_model(101, 4, 64, 15, [16], blocks=2, dil_rate=1, pooling_size=1, dropout=0.1)\n",
    "model = custom_model(0.3)\n",
    "import numpy\n",
    "from src.models.conv_model import build_model as build_conv_model\n",
    "from src.data_loader.RNASeqLoader import RNASeqDataGenerator\n",
    "import tensorflow as tf\n",
    "from src.evaluator.evaluator import Evaluator\n",
    "from src.models.conv_model import correlation_coefficient_loss, pearson_r\n",
    "import math\n",
    "dependencies = {\n",
    "    'correlation_coefficient_loss': correlation_coefficient_loss,\n",
    "    'pearson_r': pearson_r\n",
    "}\n",
    "def cosJump(epoch):\n",
    "    max_lrate = -3\n",
    "    min_lrate = -5\n",
    "    t_s = 10\n",
    "    epoch = epoch%10\n",
    "    lrate = min_lrate + 0.5*(max_lrate-min_lrate)*(1+math.cos(epoch*1.0/t_s * math.pi))\n",
    "    return math.pow(10, lrate)\n",
    "lrate = tf.keras.callbacks.LearningRateScheduler(cosJump, verbose=1)\n",
    "#model = tf.keras.models.load_model(\"models/cDNA-ABE/model-20-0.5040.h5\", custom_objects=dependencies)\n",
    "optimizer = tf.keras.optimizers.RMSprop(lr=3e-5)\n",
    "model.compile(loss='mse', optimizer=optimizer, metrics=['mae', 'mse', correlation_coefficient_loss, pearson_r])\n",
    "print(model.summary())"
   ]
  },
  {
   "cell_type": "code",
   "execution_count": null,
   "metadata": {},
   "outputs": [],
   "source": [
    "train_generator = RNASeqDataGenerator(\"data/processed/cDNA-CBE/train_data.hdf5\", 1024, sqrt_edits=False)\n",
    "validation_generator = RNASeqDataGenerator(\"data/processed/cDNA-CBE/validation_data.hdf5\", 1024, sqrt_edits=False)"
   ]
  },
  {
   "cell_type": "code",
   "execution_count": null,
   "metadata": {
    "scrolled": false
   },
   "outputs": [],
   "source": [
    "import tensorflow as tf\n",
    "from time import time\n",
    "\n",
    "checkpoint_filepath = \"models/cDNA-CBE/model-{epoch:02d}-{val_pearson_r:.4f}.h5\"\n",
    "\n",
    "model_checkpoint_callback = tf.keras.callbacks.ModelCheckpoint(\n",
    "    filepath=checkpoint_filepath,\n",
    "    save_weights_only=False,\n",
    "    #monitor='val_pearson_r',\n",
    "    #mode='max',\n",
    "    save_best_only=False)\n",
    "history = model.fit(x=train_generator, epochs=300, validation_data=validation_generator, callbacks=[model_checkpoint_callback], use_multiprocessing=True, workers=40)"
   ]
  },
  {
   "cell_type": "code",
   "execution_count": null,
   "metadata": {
    "scrolled": false
   },
   "outputs": [],
   "source": [
    "import numpy\n",
    "from src.models.conv_model import build_model as build_conv_model\n",
    "from src.data_loader.RNASeqLoader import RNASeqDataGenerator\n",
    "\n",
    "import tensorflow as tf\n",
    "from src.evaluator.evaluator import Evaluator\n",
    "from src.models.conv_model import correlation_coefficient_loss, pearson_r\n",
    "test_generator = RNASeqDataGenerator(\"data/processed/cDNA-ABE/test_data.hdf5\", 3102)\n",
    "dependencies = {\n",
    "    'correlation_coefficient_loss': correlation_coefficient_loss,\n",
    "    'pearson_r': pearson_r\n",
    "}\n",
    "\n",
    "model = tf.keras.models.load_model(\"models/cDNA-ABE/model-25-0.5054.h5\", custom_objects=dependencies)\n",
    "\n",
    "ev = Evaluator(model, test_generator)\n",
    "ev.evaluate()\n",
    "\n",
    "ev.generatePlot(\"cDNA-ABE sequence\")"
   ]
  },
  {
   "cell_type": "code",
   "execution_count": 4,
   "metadata": {},
   "outputs": [
    {
     "name": "stdout",
     "output_type": "stream",
     "text": [
      "b'))))((((((.......)))))).)))))))((((((((((.((...(((.(((.(((...))).))))))..........((......))((((((...('\n"
     ]
    },
    {
     "name": "stderr",
     "output_type": "stream",
     "text": [
      "/opt/miniconda3/envs/tf1.15.2/lib/python3.7/site-packages/ipykernel_launcher.py:2: H5pyDeprecationWarning: The default file mode will change to 'r' (read-only) in h5py 3.0. To suppress this warning, pass the mode you need to h5py.File(), or set the global default h5.get_config().default_file_mode, or set the environment variable H5PY_DEFAULT_READONLY=1. Available modes are: 'r', 'r+', 'w', 'w-'/'x', 'a'. See the docs for details.\n",
      "  \n"
     ]
    }
   ],
   "source": [
    "import h5py\n",
    "with h5py.File(\"data/processed/cDNA-ABE/test_structure_data.hdf5\") as hf:\n",
    "    print(hf['structures'][0])"
   ]
  },
  {
   "cell_type": "code",
   "execution_count": null,
   "metadata": {},
   "outputs": [],
   "source": []
  }
 ],
 "metadata": {
  "kernelspec": {
   "display_name": "Python [conda env:tf1.15.2]",
   "language": "python",
   "name": "conda-env-tf1.15.2-py"
  },
  "language_info": {
   "codemirror_mode": {
    "name": "ipython",
    "version": 3
   },
   "file_extension": ".py",
   "mimetype": "text/x-python",
   "name": "python",
   "nbconvert_exporter": "python",
   "pygments_lexer": "ipython3",
   "version": "3.7.7"
  }
 },
 "nbformat": 4,
 "nbformat_minor": 4
}
