{
 "cells": [
  {
   "cell_type": "code",
   "execution_count": null,
   "metadata": {},
   "outputs": [],
   "source": [
    "import os\n",
    "from src.data_loader.RNASeqLoader import RNASeqDataGenerator\n",
    "from src.evaluator.evaluator import Evaluator\n",
    "os.environ[\"CUDA_DEVICE_ORDER\"]=\"PCI_BUS_ID\"\n",
    "os.environ[\"CUDA_VISIBLE_DEVICES\"]=\"4\""
   ]
  },
  {
   "cell_type": "code",
   "execution_count": null,
   "metadata": {},
   "outputs": [],
   "source": [
    "import tensorflow as tf\n",
    "model_path = \"models/cDNA-ABE/gridsearch/[101, 4, 64, 16, [32, 32], 2, 2, 0.2, 1]-1607519506832635790/1607519506832635790.h5\"\n",
    "data_path = \"data/processed/cDNA-ABE/test_data.hdf5\"\n",
    "test_gen = RNASeqDataGenerator(data_path, 1024)\n",
    "model = tf.keras.models.load_model(model_path)\n",
    "e = Evaluator(model, test_gen)"
   ]
  },
  {
   "cell_type": "code",
   "execution_count": null,
   "metadata": {},
   "outputs": [],
   "source": [
    "e.evaluate()"
   ]
  },
  {
   "cell_type": "code",
   "execution_count": null,
   "metadata": {},
   "outputs": [],
   "source": [
    "e.generatePlot(\"asdf\")"
   ]
  },
  {
   "cell_type": "code",
   "execution_count": null,
   "metadata": {
    "scrolled": false
   },
   "outputs": [],
   "source": [
    "import os\n",
    "os.environ[\"CUDA_DEVICE_ORDER\"]=\"PCI_BUS_ID\"\n",
    "os.environ[\"CUDA_VISIBLE_DEVICES\"]=\"4\"\n",
    "import numpy\n",
    "from src.models.conv_model import build_model as build_conv_model\n",
    "from src.data_loader.RNASeqLoader import RNASeqDataGenerator\n",
    "\n",
    "import tensorflow as tf\n",
    "from src.evaluator.evaluator import Evaluator\n",
    "from src.models.conv_model import correlation_coefficient_loss, pearson_r\n",
    "test_generator = RNASeqDataGenerator(\"data/processed/cDNA-ABE/test_data.hdf5\", 32)\n",
    "dependencies = {\n",
    "    'correlation_coefficient_loss': correlation_coefficient_loss,\n",
    "    'pearson_r': pearson_r\n",
    "}\n",
    "print(\"hi\")\n",
    "model = tf.keras.models.load_model(\"models/cDNA-ABE/asdf.h5\", custom_objects=dependencies)\n",
    "print(\"hi\")\n",
    "ev = Evaluator(model, test_generator)\n",
    "ev.evaluate()\n",
    "print(\"hi\")\n",
    "ev.generatePlot(\"cDNA-ABE sequence\")"
   ]
  },
  {
   "cell_type": "code",
   "execution_count": null,
   "metadata": {},
   "outputs": [],
   "source": []
  }
 ],
 "metadata": {
  "kernelspec": {
   "display_name": "Python [conda env:tf1.15.2]",
   "language": "python",
   "name": "conda-env-tf1.15.2-py"
  },
  "language_info": {
   "codemirror_mode": {
    "name": "ipython",
    "version": 3
   },
   "file_extension": ".py",
   "mimetype": "text/x-python",
   "name": "python",
   "nbconvert_exporter": "python",
   "pygments_lexer": "ipython3",
   "version": "3.7.7"
  }
 },
 "nbformat": 4,
 "nbformat_minor": 4
}
