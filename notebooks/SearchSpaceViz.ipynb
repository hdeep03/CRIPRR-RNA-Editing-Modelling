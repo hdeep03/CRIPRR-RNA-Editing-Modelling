{
 "cells": [
  {
   "cell_type": "code",
   "execution_count": 1,
   "metadata": {},
   "outputs": [],
   "source": [
    "import pickle\n",
    "acc = pickle.load(open(\"models/cDNA-ABE/bayesian_opt/accumulator.p\", 'rb'))"
   ]
  },
  {
   "cell_type": "code",
   "execution_count": 2,
   "metadata": {
    "scrolled": false
   },
   "outputs": [
    {
     "name": "stdout",
     "output_type": "stream",
     "text": [
      "{'state': 2, 'tid': 38, 'spec': None, 'result': {'loss': 0.0664749675857066, 'status': 'ok'}, 'misc': {'tid': 38, 'cmd': ('domain_attachment', 'FMinIter_Domain'), 'workdir': None, 'idxs': {'conv_layers_1': [38], 'conv_layers_2': [38], 'dense_layer_nodes': [38], 'dense_layers': [38], 'dropout': [38], 'filters_1': [38], 'filters_2': [38], 'kernel_size_1': [38], 'kernel_size_2': [38], 'lr': [38], 'pool1': [38], 'pool2': [38]}, 'vals': {'conv_layers_1': [5.0], 'conv_layers_2': [5.0], 'dense_layer_nodes': [54.0], 'dense_layers': [1.0], 'dropout': [0.07706834040737767], 'filters_1': [156.0], 'filters_2': [89.0], 'kernel_size_1': [9.0], 'kernel_size_2': [39.0], 'lr': [-4.0663742943243335], 'pool1': [1.0], 'pool2': [3.0]}}, 'exp_key': None, 'owner': None, 'version': 0, 'book_time': datetime.datetime(2021, 1, 28, 6, 43, 24, 184000), 'refresh_time': datetime.datetime(2021, 1, 28, 11, 6, 10, 763000)}\n"
     ]
    }
   ],
   "source": [
    "print(acc.best_trial)"
   ]
  },
  {
   "cell_type": "code",
   "execution_count": 55,
   "metadata": {
    "scrolled": false
   },
   "outputs": [],
   "source": [
    "import json\n",
    "from pandas import DataFrame\n",
    "conv = list()\n",
    "res = list()\n",
    "for x in acc.trials:\n",
    "    conv.append(x['misc']['vals']['kernel_size_1'][0])\n",
    "    res.append(x['result']['loss'])"
   ]
  },
  {
   "cell_type": "code",
   "execution_count": 56,
   "metadata": {},
   "outputs": [],
   "source": [
    "import numpy as np\n",
    "conv_num = np.array(conv)\n",
    "res_num = np.array(res)"
   ]
  },
  {
   "cell_type": "code",
   "execution_count": 60,
   "metadata": {},
   "outputs": [
    {
     "name": "stdout",
     "output_type": "stream",
     "text": [
      "117\n"
     ]
    }
   ],
   "source": [
    "print(len(res_num))"
   ]
  },
  {
   "cell_type": "code",
   "execution_count": 59,
   "metadata": {},
   "outputs": [
    {
     "data": {
      "image/png": "[encoded data removed]",
      "text/plain": [
       "<Figure size 432x288 with 1 Axes>"
      ]
     },
     "metadata": {
      "needs_background": "light"
     },
     "output_type": "display_data"
    }
   ],
   "source": [
    "import matplotlib.pyplot as plt\n",
    "\n",
    "plt.scatter(conv_num, res_num, s=0.3)\n",
    "plt.ylim(0.065, 0.070)\n",
    "plt.title(\"Convolution Kernel Size vs. Binary Cross-entropy Loss\")\n",
    "plt.xlabel(\"Convolution Kernel Size\")\n",
    "plt.ylabel(\"Binary Cross-entropy Loss\")\n",
    "plt.savefig(\"ConvBlock1.png\", dpi=300)"
   ]
  },
  {
   "cell_type": "code",
   "execution_count": null,
   "metadata": {},
   "outputs": [],
   "source": []
  }
 ],
 "metadata": {
  "kernelspec": {
   "display_name": "Python [conda env:tf1.15.2]",
   "language": "python",
   "name": "conda-env-tf1.15.2-py"
  },
  "language_info": {
   "codemirror_mode": {
    "name": "ipython",
    "version": 3
   },
   "file_extension": ".py",
   "mimetype": "text/x-python",
   "name": "python",
   "nbconvert_exporter": "python",
   "pygments_lexer": "ipython3",
   "version": "3.7.7"
  }
 },
 "nbformat": 4,
 "nbformat_minor": 4
}
