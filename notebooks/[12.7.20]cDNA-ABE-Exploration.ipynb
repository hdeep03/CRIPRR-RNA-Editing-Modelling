{
 "cells": [
  {
   "cell_type": "code",
   "execution_count": null,
   "metadata": {},
   "outputs": [],
   "source": [
    "import numpy\n",
    "from src.models.conv_model import build_model as build_conv_model\n",
    "from src.data_loader.RNASeqStructLoader import RNASeqStructDataGenerator \n",
    "from src.models.conv_model import correlation_coefficient_loss, pearson_r"
   ]
  },
  {
   "cell_type": "code",
   "execution_count": null,
   "metadata": {},
   "outputs": [],
   "source": [
    "from tensorflow.keras.models import Sequential\n",
    "from tensorflow.keras.layers import Input, Dense, Conv1D, Dropout, Flatten, BatchNormalization, MaxPool1D, Activation\n",
    "from tensorflow.keras.optimizers import RMSprop\n",
    "import tensorflow as tf\n",
    "\n",
    "def custom_model(dropout):\n",
    "    model = Sequential()\n",
    "    model.add(Input(shape=(101,3)))\n",
    "    model.add(Conv1D(filters=128, kernel_size=32, padding='same'))\n",
    "    model.add(BatchNormalization())\n",
    "    model.add(Activation(\"relu\"))\n",
    "    model.add(Dropout(dropout))\n",
    "    model.add(Conv1D(filters=128, kernel_size=32, padding='same'))\n",
    "    model.add(BatchNormalization())\n",
    "    model.add(Activation(\"relu\"))\n",
    "    model.add(Dropout(dropout))\n",
    "    model.add(Conv1D(filters=64, kernel_size=32, padding='same'))\n",
    "    model.add(BatchNormalization())\n",
    "    model.add(Activation(\"relu\"))\n",
    "    model.add(Dropout(dropout))\n",
    "    model.add(MaxPool1D(pool_size=2, padding=\"same\"))\n",
    "    model.add(Conv1D(filters=32, kernel_size=16, padding='same'))\n",
    "    model.add(BatchNormalization())\n",
    "    model.add(Activation(\"relu\"))\n",
    "    model.add(Dropout(dropout))\n",
    "    model.add(Conv1D(filters=32, kernel_size=16, padding='same'))\n",
    "    model.add(BatchNormalization())\n",
    "    model.add(Activation(\"relu\"))\n",
    "    model.add(Dropout(dropout))\n",
    "    model.add(Conv1D(filters=32, kernel_size=16, padding='same'))\n",
    "    model.add(BatchNormalization())\n",
    "    model.add(Activation(\"relu\"))\n",
    "    model.add(Dropout(dropout))\n",
    "    model.add(MaxPool1D(pool_size=2, padding=\"same\"))\n",
    "    model.add(Flatten())\n",
    "    model.add(Dense(16, activation='relu'))\n",
    "    model.add(Dense(1, activation='sigmoid'))\n",
    "    optimizer = tf.keras.optimizers.RMSprop(decay=0.0005)\n",
    "    model.compile(loss='mse', optimizer=optimizer, metrics=['mae', 'mse', correlation_coefficient_loss, pearson_r])\n",
    "    return model "
   ]
  },
  {
   "cell_type": "code",
   "execution_count": null,
   "metadata": {
    "scrolled": false
   },
   "outputs": [],
   "source": [
    "#model = build_conv_model(101, 4, 64, 15, [16], blocks=2, dil_rate=1, pooling_size=1, dropout=0.1)\n",
    "#model = custom_model(0.3)\n",
    "import numpy\n",
    "from src.models.conv_model import build_model as build_conv_model\n",
    "import tensorflow as tf\n",
    "from src.evaluator.evaluator import Evaluator\n",
    "from src.models.conv_model import correlation_coefficient_loss, pearson_r\n",
    "import math\n",
    "dependencies = {\n",
    "    'correlation_coefficient_loss': correlation_coefficient_loss,\n",
    "    'pearson_r': pearson_r\n",
    "}\n",
    "def cosJump(epoch):\n",
    "    max_lrate = -3\n",
    "    min_lrate = -5\n",
    "    t_s = 10\n",
    "    epoch = epoch%10\n",
    "    lrate = min_lrate + 0.5*(max_lrate-min_lrate)*(1+math.cos(epoch*1.0/t_s * math.pi))\n",
    "    return math.pow(10, lrate)\n",
    "lrate = tf.keras.callbacks.LearningRateScheduler(cosJump, verbose=1)\n",
    "optimizer = tf.keras.optimizers.RMSprop(lr=3e-5)\n",
    "\n",
    "model = tf.keras.models.load_model(\"models/cDNA-ABE/model-30-0.5643.h5\", custom_objects=dependencies)\n",
    "\n",
    "model.compile(loss='mse', optimizer=optimizer, metrics=['mae', 'mse', correlation_coefficient_loss, pearson_r])\n",
    "print(model.summary())"
   ]
  },
  {
   "cell_type": "code",
   "execution_count": null,
   "metadata": {},
   "outputs": [],
   "source": [
    "train_generator = RNASeqStructDataGenerator(\"data/processed/cDNA-ABE/train_data.hdf5\", 1024)\n",
    "validation_generator = RNASeqStructDataGenerator(\"data/processed/cDNA-ABE/validation_data.hdf5\", 1024)"
   ]
  },
  {
   "cell_type": "code",
   "execution_count": null,
   "metadata": {
    "scrolled": false
   },
   "outputs": [],
   "source": [
    "import tensorflow as tf\n",
    "from time import time\n",
    "\n",
    "checkpoint_filepath = \"models/cDNA-ABE/12.14.20/model-{epoch:02d}-{val_pearson_r:.4f}.h5\"\n",
    "\n",
    "model_checkpoint_callback = tf.keras.callbacks.ModelCheckpoint(\n",
    "    filepath=checkpoint_filepath,\n",
    "    save_weights_only=False,\n",
    "    #monitor='val_pearson_r',\n",
    "    #mode='max',\n",
    "    save_best_only=False)\n",
    "history = model.fit(x=train_generator, epochs=300, validation_data=validation_generator, callbacks=[model_checkpoint_callback, lrate], use_multiprocessing=True, workers=40)"
   ]
  },
  {
   "cell_type": "code",
   "execution_count": null,
   "metadata": {
    "scrolled": false
   },
   "outputs": [],
   "source": [
    "import numpy\n",
    "from src.models.conv_model import build_model as build_conv_model\n",
    "from src.data_loader.RNASeqStructLoader import RNASeqStructDataGenerator \n",
    "\n",
    "import tensorflow as tf\n",
    "from src.evaluator.evaluator import Evaluator\n",
    "from src.models.conv_model import correlation_coefficient_loss, pearson_r\n",
    "test_generator = RNASeqStructDataGenerator(\"data/processed/cDNA-ABE/test_data.hdf5\", 3102)\n",
    "dependencies = {\n",
    "    'correlation_coefficient_loss': correlation_coefficient_loss,\n",
    "    'pearson_r': pearson_r\n",
    "}\n",
    "\n",
    "model = tf.keras.models.load_model(\"models/cDNA-ABE/model-30-0.5643.h5\", custom_objects=dependencies)\n",
    "\n",
    "ev = Evaluator(model, test_generator)\n",
    "ev.evaluate()\n",
    "\n",
    "#ev.generatePlot(\"cDNA-ABE sequence+structure\")"
   ]
  },
  {
   "cell_type": "code",
   "execution_count": null,
   "metadata": {},
   "outputs": [],
   "source": [
    "import seaborn as sns"
   ]
  },
  {
   "cell_type": "code",
   "execution_count": null,
   "metadata": {},
   "outputs": [],
   "source": [
    "import numpy\n",
    "from src.models.conv_model import build_model as build_conv_model\n",
    "from src.data_loader.RNASeqStructLoader import RNASeqStructDataGenerator \n",
    "\n",
    "import tensorflow as tf\n",
    "from src.evaluator.evaluator import Evaluator\n",
    "from src.models.conv_model import correlation_coefficient_loss, pearson_r\n",
    "\n",
    "test_generator = RNASeqStructDataGenerator(\"data/processed/cDNA-ABE/test_data.hdf5\", 3102, structure_only=True)\n",
    "dependencies = {\n",
    "    'correlation_coefficient_loss': correlation_coefficient_loss,\n",
    "    'pearson_r': pearson_r\n",
    "}\n",
    "\n",
    "model = tf.keras.models.load_model(\"models/cDNA-ABE/12.14.20/structure-model-04-0.1711.h5\", custom_objects=dependencies)"
   ]
  },
  {
   "cell_type": "code",
   "execution_count": null,
   "metadata": {},
   "outputs": [],
   "source": [
    "tgts = model.predict(test_generator, workers = 20, use_multiprocessing=True)"
   ]
  },
  {
   "cell_type": "code",
   "execution_count": null,
   "metadata": {},
   "outputs": [],
   "source": [
    "gt = list()\n",
    "for x in test_generator:\n",
    "    gt.append(x[1])"
   ]
  },
  {
   "cell_type": "code",
   "execution_count": null,
   "metadata": {},
   "outputs": [],
   "source": [
    "import numpy as np\n",
    "gft = np.concatenate(gt)"
   ]
  },
  {
   "cell_type": "code",
   "execution_count": null,
   "metadata": {},
   "outputs": [],
   "source": [
    "gft = gft.reshape(gft.shape[0], 1)"
   ]
  },
  {
   "cell_type": "code",
   "execution_count": null,
   "metadata": {},
   "outputs": [],
   "source": [
    "print(gft.shape)"
   ]
  },
  {
   "cell_type": "code",
   "execution_count": null,
   "metadata": {},
   "outputs": [],
   "source": [
    "x = 2907\n",
    "print(gft[x])\n",
    "print(tgts[x])"
   ]
  },
  {
   "cell_type": "code",
   "execution_count": null,
   "metadata": {},
   "outputs": [],
   "source": [
    "res = np.hstack((gft, tgts))\n",
    "print(res.shape)"
   ]
  },
  {
   "cell_type": "code",
   "execution_count": null,
   "metadata": {},
   "outputs": [],
   "source": [
    "import pandas as pd\n",
    "df = pd.DataFrame(data=res)\n",
    "import matplotlib as mpl\n",
    "mpl.rcParams.update(mpl.rcParamsDefault)"
   ]
  },
  {
   "cell_type": "code",
   "execution_count": null,
   "metadata": {
    "scrolled": false
   },
   "outputs": [],
   "source": [
    "import scipy.stats as stats\n",
    "import matplotlib.cm as cm\n",
    "import matplotlib.pyplot as plt\n",
    "df.columns = ['observed editing', 'predicted editing']\n",
    "p = sns.jointplot(data=df, x=\"observed editing\", y=\"predicted editing\", kind=\"hex\", bins='log',  cmap='BuPu')\n",
    "p.annotate(stats.pearsonr)\n",
    "p.fig.suptitle(\"cDNA ABE Structure Only\")\n",
    "plt.ylim(0, 1)\n",
    "plt.xlim(0,1)\n",
    "plt.show()"
   ]
  },
  {
   "cell_type": "code",
   "execution_count": null,
   "metadata": {},
   "outputs": [],
   "source": []
  }
 ],
 "metadata": {
  "kernelspec": {
   "display_name": "Python [conda env:tf1.15.2]",
   "language": "python",
   "name": "conda-env-tf1.15.2-py"
  },
  "language_info": {
   "codemirror_mode": {
    "name": "ipython",
    "version": 3
   },
   "file_extension": ".py",
   "mimetype": "text/x-python",
   "name": "python",
   "nbconvert_exporter": "python",
   "pygments_lexer": "ipython3",
   "version": "3.7.7"
  }
 },
 "nbformat": 4,
 "nbformat_minor": 4
}
