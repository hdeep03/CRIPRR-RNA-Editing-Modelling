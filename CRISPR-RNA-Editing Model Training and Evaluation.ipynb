{
 "cells": [
  {
   "cell_type": "markdown",
   "metadata": {},
   "source": [
    "# CRISPR-RNA-Editing Model Training and Evaluation\n",
    "Harsh D. <br/>\n",
    "Updated on 10/19/20\n",
    "#### Notebook to train models based on the sequence and the edit rates contained in the metadata for each sample in the .fasta file. Can also create temporary .npz files for faster loading so the edit rates and sequences don't need to be extracted every time.\n",
    "temp files stored in tmp/ directory"
   ]
  },
  {
   "cell_type": "code",
   "execution_count": 1,
   "metadata": {},
   "outputs": [],
   "source": [
    "import os\n",
    "import tensorflow as tf\n",
    "from tensorflow import keras\n",
    "from tensorflow.keras import layers, activations, utils\n",
    "\n",
    "\n",
    "os.environ[\"CUDA_DEVICE_ORDER\"] = \"PCI_BUS_ID\"\n",
    "os.environ[\"CUDA_VISIBLE_DEVICES\"] = \"0\" \n",
    "\n",
    "tp = \"ABE\" #\"CBE\" for cytidine deaminase base editor; \"ABE\" for adenine deaminase base editor\n",
    "DATA_DIR = \"crispr/data/Dataset/\" #\"Path to .fasta files\""
   ]
  },
  {
   "cell_type": "code",
   "execution_count": 2,
   "metadata": {},
   "outputs": [],
   "source": [
    "import numpy as np\n",
    "from sklearn.preprocessing import LabelEncoder\n",
    "from sklearn.preprocessing import OneHotEncoder\n",
    "from tqdm import tqdm\n",
    "from multiprocessing import Pool\n",
    "def seq_to_onehot(seq): \n",
    "    seq = seq.strip()\n",
    "    values = list(seq+\"ACTG\") \n",
    "    label_encoder = LabelEncoder();\n",
    "    integer_encoded = label_encoder.fit_transform(values);\n",
    "    onehot_encoder = OneHotEncoder(sparse=False);\n",
    "    integer_encoded = integer_encoded.reshape(len(integer_encoded), 1);\n",
    "    onehot_encoded = onehot_encoder.fit_transform(integer_encoded); \n",
    "    return onehot_encoded[:-4] \n",
    "def editdata(line):\n",
    "    data = line.split(\"_\")\n",
    "    return float(data[3])\n",
    "def getData(chromosome):\n",
    "    start = time.time()\n",
    "    out = list()\n",
    "    inp = list()\n",
    "    with open(DATA_DIR+'{}.chr{}.fasta'.format(exp, chromosome),'rt') as f:\n",
    "        for line in tqdm(f):\n",
    "            if line[0:1] == \">\":\n",
    "                y = editdata(line)\n",
    "                out.append(y)\n",
    "            else:\n",
    "                x = seq_to_onehot(line)\n",
    "                assert x.shape[1] == 4\n",
    "                inp.append(x)\n",
    "    print(time.time()-start)\n",
    "    X = np.stack(inp)\n",
    "    Y = np.stack(out)\n",
    "    print(Y.shape[0])\n",
    "    Y = Y.reshape(Y.shape[0], 1)\n",
    "    np.savez_compressed(\"tmp/{}.chr{}\".format(exp, chromosome),x = X, y = Y)\n",
    "def load_data(chromosomes):\n",
    "    start = time.time()\n",
    "    num_workers = len(chromosomes)\n",
    "    with Pool(processes=num_workers) as pool:\n",
    "        res = pool.map(getData, chromosomes)\n",
    "    print(time.time()-start) "
   ]
  },
  {
   "cell_type": "markdown",
   "metadata": {},
   "source": [
    "#### You should prob. run it the first time with rebuild and rebuildTst set to true to generate the temp files but then set them to false to skip the process for later runs. If you get a file not found, you have not generated the temp file yet."
   ]
  },
  {
   "cell_type": "code",
   "execution_count": 3,
   "metadata": {
    "scrolled": false
   },
   "outputs": [
    {
     "name": "stdout",
     "output_type": "stream",
     "text": [
      "['1', '2', '3', '4', '5', '6', '7', '8', '9', '10', '11', '12', '13', '14', '15', '16', '17', '18', '19']\n",
      "['20', '21', '22', 'X']\n",
      "['20', '21', '22', 'X']\n",
      "TOT: 1945651\n",
      "TOT: 183217\n"
     ]
    }
   ],
   "source": [
    "import time\n",
    "\n",
    "rebuild = False # Whether or not to rebuild training temp files or just use the ones already generated\n",
    "rebuildTst = False # Whether or not to rebuild testing temp files or just use the ones already generated\n",
    "\n",
    "test_set = [\"20\", \"21\", \"22\", \"X\"] # The chromosomes that will be used for testing the model's performance\n",
    "train_set = [str(x) for x in range(1, 20)] # The chromosomes that will be used for training the model.\n",
    "val_set = test_set\n",
    "print(train_set)\n",
    "print(val_set)\n",
    "print(test_set)\n",
    "\n",
    "Xtr = list()\n",
    "Ytr = list()\n",
    "\n",
    "train = [\"156B\"] # The experiment from which the the training chromosomes will be taken\n",
    "validation = [\"157B\"] # The experiment from which the the validation chromosomes will be taken\n",
    "test = [\"158B\"] # The experiment from which the testing chromosomes will be taken\n",
    " \n",
    "for experiment in train:\n",
    "    exp = experiment\n",
    "    if rebuild is True:\n",
    "        load_data(train_set)\n",
    "    for x in train_set:\n",
    "        lmn = np.load(\"tmp/{}.chr{}.npz\".format(exp, x))\n",
    "        Xtr.append(lmn['x'])\n",
    "        Ytr.append(lmn['y'])\n",
    "\n",
    "X_train = np.concatenate(Xtr, axis=0)\n",
    "Y_train = np.concatenate(Ytr, axis=0)\n",
    "print(\"TOT: {}\".format(X_train.shape[0]))\n",
    "\n",
    "Xval = list()\n",
    "Yval = list()\n",
    "\n",
    "for experiment in validation:\n",
    "    exp = experiment\n",
    "    if rebuild is True:\n",
    "        load_data(val_set)\n",
    "    for x in val_set:\n",
    "        lmn = np.load(\"tmp/{}.chr{}.npz\".format(exp, x))\n",
    "        Xval.append(lmn['x'])\n",
    "        Yval.append(lmn['y'])\n",
    "        \n",
    "X_val = np.concatenate(Xval, axis=0)\n",
    "Y_val = np.concatenate(Yval, axis=0)\n",
    "print(\"TOT: {}\".format(X_val.shape[0]))    \n",
    "\n",
    "X_tst = list()\n",
    "Y_tst = list()\n",
    "for experiment in test:\n",
    "    exp = experiment\n",
    "    if rebuildTst is True:\n",
    "        load_data(test_set)\n",
    "    for x in test_set:\n",
    "            lmn = np.load(\"tmp/{}.chr{}.npz\".format(exp, x))\n",
    "            X_tst.append(lmn['x'])\n",
    "            Y_tst.append(lmn['y'])\n",
    "X_test = np.concatenate(X_tst, axis=0)\n",
    "Y_test = np.concatenate(Y_tst, axis=0)\n"
   ]
  },
  {
   "cell_type": "markdown",
   "metadata": {},
   "source": [
    "The \"\\_dz\" variables were supposed to have only non-zero edit rate sequences and values but this was scrapped and the whole dataset is being used. This is the reason for the seemingly useless name change"
   ]
  },
  {
   "cell_type": "code",
   "execution_count": 4,
   "metadata": {},
   "outputs": [
    {
     "name": "stdout",
     "output_type": "stream",
     "text": [
      "(1945651, 1001, 4)\n",
      "(1945651, 1)\n",
      "(183217, 1001, 4)\n",
      "(183217, 1)\n",
      "(166671, 1001, 4)\n",
      "(166671, 1)\n"
     ]
    }
   ],
   "source": [
    "X_train_dz = X_train\n",
    "Y_train_dz = Y_train\n",
    "print(X_train_dz.shape)\n",
    "print(Y_train_dz.shape)\n",
    "X_val_dz = X_val\n",
    "Y_val_dz = Y_val\n",
    "print(X_val_dz.shape)\n",
    "print(Y_val_dz.shape)\n",
    "X_test_dz = X_test\n",
    "Y_test_dz = Y_test\n",
    "print(X_test_dz.shape)\n",
    "print(Y_test_dz.shape)"
   ]
  },
  {
   "cell_type": "markdown",
   "metadata": {},
   "source": [
    "#### A simple data generator to give reversed sequences"
   ]
  },
  {
   "cell_type": "code",
   "execution_count": 5,
   "metadata": {},
   "outputs": [],
   "source": [
    "import math\n",
    "from tensorflow import keras\n",
    "class SeqDataGenerator(keras.utils.Sequence):\n",
    "    def __init__(self, x_set, y_set, batch_size):\n",
    "        self.x, self.y = x_set, y_set\n",
    "        self.dim = x_set.shape[1]\n",
    "        self.batch_size = batch_size\n",
    "        self.indexes = np.arange(len(self.x))\n",
    "        \n",
    "    def __len__(self):\n",
    "        return math.ceil(len(self.x) / self.batch_size)\n",
    "    \n",
    "    def __on_epoch_end__(self):\n",
    "        np.random.shuffle(self.indexes)\n",
    "        \n",
    "    def __getitem__(self, index):\n",
    "        X = np.empty((2*self.batch_size, self.dim, 4))\n",
    "        Y = np.empty((2*self.batch_size))\n",
    "        for i, ID in enumerate(self.indexes[self.batch_size*index:min((self.batch_size)*(index+1), len(self.x))]):\n",
    "                X[i,] = self.x[ID]\n",
    "                X[self.batch_size+i,] = np.flipud(self.x[ID])\n",
    "                Y[i] = self.y[ID]\n",
    "                Y[self.batch_size+i,] = self.y[ID]\n",
    "        return (X, Y)\n",
    "        "
   ]
  },
  {
   "cell_type": "markdown",
   "metadata": {},
   "source": [
    "#### Sets up the model architecture."
   ]
  },
  {
   "cell_type": "code",
   "execution_count": 21,
   "metadata": {},
   "outputs": [],
   "source": [
    "import tensorflow as tf\n",
    "from tensorflow import keras\n",
    "from tensorflow.keras import layers, activations, Model, backend\n",
    "from tensorflow.keras.layers import Input, Conv1D, ReLU, BatchNormalization,\\\n",
    "                                    Add, Activation, MaxPooling1D, Flatten, Dense, Dropout\n",
    "import tensorflow.keras.backend as K\n",
    "K.clear_session()\n",
    "\n",
    "n = 500\n",
    "def build_model():\n",
    "    model = keras.Sequential(\n",
    "        [\n",
    "        layers.Input(shape=(2*n+1,4)),\n",
    "        layers.Conv1D(128, 16, padding='same', activation='relu'),\n",
    "        layers.BatchNormalization(),\n",
    "        layers.Conv1D(128, 8, padding='same', activation='relu'),\n",
    "        layers.BatchNormalization(),\n",
    "        layers.MaxPool1D(2, padding='same'),\n",
    "        layers.Conv1D(64, 12, padding='same', activation='relu'),\n",
    "        layers.BatchNormalization(),\n",
    "        layers.MaxPool1D(2, padding='same'),\n",
    "        layers.Conv1D(64, 8, padding='same', activation='relu'),\n",
    "        layers.BatchNormalization(),\n",
    "        layers.Conv1D(64, 8, padding='same', activation='relu'),\n",
    "        layers.MaxPool1D(4, padding='same'),\n",
    "        layers.Flatten(),\n",
    "        layers.Dense(32, activation='relu'),\n",
    "        layers.BatchNormalization(),\n",
    "        layers.Dense(1, activation='sigmoid'),\n",
    "        ]\n",
    "    )\n",
    "    optimizer = tf.keras.optimizers.RMSprop(lr=0.01)\n",
    "    model.compile(loss='mse',\n",
    "                optimizer=optimizer,\n",
    "                metrics=['mae', 'mse'])\n",
    "    return model\n",
    "def build_reg_model():\n",
    "    model = keras.Sequential(\n",
    "        [\n",
    "        layers.Input(shape=(2*n+1,4)),\n",
    "        layers.Flatten(),\n",
    "        layers.Dense(1024, activation='relu'),\n",
    "        layers.Dense(256, activation='relu'),\n",
    "        layers.Dense(64, activation='relu'),\n",
    "        layers.Dense(1, activation='sigmoid'),\n",
    "        ]\n",
    "    )\n",
    "    optimizer = tf.keras.optimizers.RMSprop()\n",
    "    model.compile(loss='mse',\n",
    "                optimizer=optimizer,\n",
    "                metrics=['mae', 'mse'])\n",
    "    return model\n",
    "def rb(x, n, w, dout):  \n",
    "    y = Conv1D(n, w, padding='same')(x)\n",
    "    y = layers.BatchNormalization()(y)\n",
    "    y = Activation('relu')(y)\n",
    "    y = Dropout(dout)(y)\n",
    "    out = Add()([x, y])\n",
    "    return out\n",
    "def resnet():\n",
    "    dout = 0.1\n",
    "    lsr = 32\n",
    "    lsr2 = 64\n",
    "    lsr3 = 64\n",
    "    inputs = keras.Input(shape=(2*n+1, 4))\n",
    "    x = Conv1D(lsr, 1, padding='same')(inputs)\n",
    "    x = rb(x, lsr, 3, dout)\n",
    "    x = rb(x, lsr, 3, dout)\n",
    "    x = rb(x, lsr, 3, dout)\n",
    "    x = MaxPooling1D(4, padding = 'same')(x)\n",
    "    x = Conv1D(lsr2, 1, padding='same')(x)\n",
    "    x = rb(x, lsr2, 7, dout)\n",
    "    x = rb(x, lsr2, 7, dout)\n",
    "    x = MaxPooling1D(4, padding = 'same')(x)\n",
    "    x = Conv1D(lsr3, 1, padding='same')(x)\n",
    "    x = rb(x, lsr3, 7, dout)\n",
    "    x = MaxPooling1D(4, padding = 'same')(x)\n",
    "    x = Flatten()(x)\n",
    "    x = Dense(lsr, activation='relu')(x)\n",
    "    x = BatchNormalization()(x)\n",
    "    output = Dense(1, activation='sigmoid')(x)\n",
    "    model = Model(inputs, output)\n",
    "    optimizer = tf.keras.optimizers.RMSprop()\n",
    "    model.compile(loss=\"mse\",\n",
    "                optimizer=optimizer,\n",
    "                metrics=['mae', 'mse'])\n",
    "    return model\n",
    "\n",
    "def build_func_model():\n",
    "    dout = 0.1\n",
    "    model = keras.Sequential(\n",
    "        [\n",
    "        layers.Input(shape=(2*n+1,4)),\n",
    "        layers.Conv1D(48, 3, padding='same', activation='relu'),\n",
    "        layers.BatchNormalization(),\n",
    "        layers.Dropout(dout),\n",
    "        layers.Conv1D(64, 3, padding='same', activation='relu'),\n",
    "        layers.BatchNormalization(),\n",
    "        layers.Dropout(dout),  \n",
    "        layers.Conv1D(100, 3, padding='same', activation='relu'),\n",
    "        layers.BatchNormalization(),\n",
    "        layers.Dropout(dout),  \n",
    "        layers.MaxPooling1D(2, padding='same'),\n",
    "        layers.Conv1D(150, 7, padding='same', activation='relu'),\n",
    "        layers.BatchNormalization(),\n",
    "        layers.Dropout(dout),\n",
    "        layers.Conv1D(300, 7, padding='same', activation='relu'),\n",
    "        layers.BatchNormalization(),\n",
    "        layers.Dropout(dout),\n",
    "        layers.MaxPooling1D(3, padding='same'),\n",
    "        layers.Conv1D(200, 7, padding='same', activation='relu'),\n",
    "        layers.BatchNormalization(),\n",
    "        layers.Dropout(dout),\n",
    "        layers.MaxPooling1D(4, padding='same'),\n",
    "        layers.Flatten(),\n",
    "        layers.Dense(100, activation='relu'),\n",
    "        layers.BatchNormalization(),\n",
    "        layers.Dropout(dout),\n",
    "        layers.Dense(1, activation='sigmoid'),\n",
    "        ]\n",
    "    )\n",
    "    optimizer = tf.keras.optimizers.Adam()\n",
    "    model.compile(loss='mse',\n",
    "                optimizer=optimizer,\n",
    "                metrics=['mae', 'mse'])\n",
    "    return model"
   ]
  },
  {
   "cell_type": "code",
   "execution_count": 25,
   "metadata": {
    "scrolled": false
   },
   "outputs": [
    {
     "name": "stdout",
     "output_type": "stream",
     "text": [
      "Model: \"sequential_3\"\n",
      "_________________________________________________________________\n",
      "Layer (type)                 Output Shape              Param #   \n",
      "=================================================================\n",
      "conv1d_15 (Conv1D)           (None, 1001, 128)         8320      \n",
      "_________________________________________________________________\n",
      "batch_normalization_15 (Batc (None, 1001, 128)         512       \n",
      "_________________________________________________________________\n",
      "conv1d_16 (Conv1D)           (None, 1001, 128)         131200    \n",
      "_________________________________________________________________\n",
      "batch_normalization_16 (Batc (None, 1001, 128)         512       \n",
      "_________________________________________________________________\n",
      "max_pooling1d_9 (MaxPooling1 (None, 501, 128)          0         \n",
      "_________________________________________________________________\n",
      "conv1d_17 (Conv1D)           (None, 501, 64)           98368     \n",
      "_________________________________________________________________\n",
      "batch_normalization_17 (Batc (None, 501, 64)           256       \n",
      "_________________________________________________________________\n",
      "max_pooling1d_10 (MaxPooling (None, 251, 64)           0         \n",
      "_________________________________________________________________\n",
      "conv1d_18 (Conv1D)           (None, 251, 64)           32832     \n",
      "_________________________________________________________________\n",
      "batch_normalization_18 (Batc (None, 251, 64)           256       \n",
      "_________________________________________________________________\n",
      "conv1d_19 (Conv1D)           (None, 251, 64)           32832     \n",
      "_________________________________________________________________\n",
      "max_pooling1d_11 (MaxPooling (None, 63, 64)            0         \n",
      "_________________________________________________________________\n",
      "flatten_3 (Flatten)          (None, 4032)              0         \n",
      "_________________________________________________________________\n",
      "dense_6 (Dense)              (None, 32)                129056    \n",
      "_________________________________________________________________\n",
      "batch_normalization_19 (Batc (None, 32)                128       \n",
      "_________________________________________________________________\n",
      "dense_7 (Dense)              (None, 1)                 33        \n",
      "=================================================================\n",
      "Total params: 434,305\n",
      "Trainable params: 433,473\n",
      "Non-trainable params: 832\n",
      "_________________________________________________________________\n",
      "Epoch 1/20\n",
      "1900/1901 [============================>.] - ETA: 0s - loss: 0.0019 - mean_absolute_error: 0.0179 - mean_squared_error: 0.0019Epoch 1/20\n",
      "183217/1901 [===========================================================================================================================================================================================================================================================================================================================================================================================================================================================================================================================================================================================================================================================================================================================================================================================================================================================================================================================================================================================================================================================================================================================================================================================================================================================================================================================================================================================================================================================================================================================================================================================================================================================================================================================================================================================================================================================================================================================================================================================================================================================================================================================================================================================================================================================================================================================================================================================================================================================================================================================================================================================================================================================================================================================================================================================================================================================================================================================================================================================================] - 20s 107us/sample - loss: 0.0022 - mean_absolute_error: 0.0179 - mean_squared_error: 0.0012\n",
      "1901/1901 [==============================] - 1277s 672ms/step - loss: 0.0019 - mean_absolute_error: 0.0179 - mean_squared_error: 0.0019 - val_loss: 0.0012 - val_mean_absolute_error: 0.0179 - val_mean_squared_error: 0.0012\n",
      "Epoch 2/20\n",
      "1900/1901 [============================>.] - ETA: 0s - loss: 9.1817e-04 - mean_absolute_error: 0.0142 - mean_squared_error: 9.1817e-04Epoch 1/20\n",
      "183217/1901 [===========================================================================================================================================================================================================================================================================================================================================================================================================================================================================================================================================================================================================================================================================================================================================================================================================================================================================================================================================================================================================================================================================================================================================================================================================================================================================================================================================================================================================================================================================================================================================================================================================================================================================================================================================================================================================================================================================================================================================================================================================================================================================================================================================================================================================================================================================================================================================================================================================================================================================================================================================================================================================================================================================================================================================================================================================================================================================================================================================================================================================] - 18s 99us/sample - loss: 0.0017 - mean_absolute_error: 0.0138 - mean_squared_error: 0.0010\n"
     ]
    },
    {
     "name": "stdout",
     "output_type": "stream",
     "text": [
      "1901/1901 [==============================] - 1259s 662ms/step - loss: 9.1777e-04 - mean_absolute_error: 0.0142 - mean_squared_error: 9.1777e-04 - val_loss: 0.0010 - val_mean_absolute_error: 0.0138 - val_mean_squared_error: 0.0010\n",
      "Epoch 3/20\n",
      "  91/1901 [>.............................] - ETA: 19:41 - loss: 8.4208e-04 - mean_absolute_error: 0.0134 - mean_squared_error: 8.4208e-04"
     ]
    },
    {
     "ename": "KeyboardInterrupt",
     "evalue": "",
     "output_type": "error",
     "traceback": [
      "\u001b[0;31m---------------------------------------------------------------------------\u001b[0m",
      "\u001b[0;31mKeyboardInterrupt\u001b[0m                         Traceback (most recent call last)",
      "\u001b[0;32m<ipython-input-25-57d9a8c4cff2>\u001b[0m in \u001b[0;36m<module>\u001b[0;34m\u001b[0m\n\u001b[1;32m     16\u001b[0m \u001b[0msdg\u001b[0m \u001b[0;34m=\u001b[0m \u001b[0mSeqDataGenerator\u001b[0m\u001b[0;34m(\u001b[0m\u001b[0mX_train_dz\u001b[0m\u001b[0;34m[\u001b[0m\u001b[0;34m:\u001b[0m\u001b[0;34m,\u001b[0m\u001b[0;36m500\u001b[0m\u001b[0;34m-\u001b[0m\u001b[0mn\u001b[0m\u001b[0;34m:\u001b[0m\u001b[0;36m501\u001b[0m\u001b[0;34m+\u001b[0m\u001b[0mn\u001b[0m\u001b[0;34m,\u001b[0m\u001b[0;34m:\u001b[0m\u001b[0;34m]\u001b[0m\u001b[0;34m,\u001b[0m \u001b[0mY_train_dz\u001b[0m\u001b[0;34m,\u001b[0m \u001b[0mbatch_size\u001b[0m\u001b[0;34m)\u001b[0m\u001b[0;34m\u001b[0m\u001b[0;34m\u001b[0m\u001b[0m\n\u001b[1;32m     17\u001b[0m \u001b[0mes\u001b[0m \u001b[0;34m=\u001b[0m \u001b[0mtf\u001b[0m\u001b[0;34m.\u001b[0m\u001b[0mkeras\u001b[0m\u001b[0;34m.\u001b[0m\u001b[0mcallbacks\u001b[0m\u001b[0;34m.\u001b[0m\u001b[0mEarlyStopping\u001b[0m\u001b[0;34m(\u001b[0m\u001b[0mmonitor\u001b[0m\u001b[0;34m=\u001b[0m\u001b[0;34m'val_loss'\u001b[0m\u001b[0;34m,\u001b[0m \u001b[0mmode\u001b[0m\u001b[0;34m=\u001b[0m\u001b[0;34m'min'\u001b[0m\u001b[0;34m,\u001b[0m \u001b[0mverbose\u001b[0m\u001b[0;34m=\u001b[0m\u001b[0;36m1\u001b[0m\u001b[0;34m,\u001b[0m \u001b[0mpatience\u001b[0m\u001b[0;34m=\u001b[0m\u001b[0;36m5\u001b[0m\u001b[0;34m)\u001b[0m\u001b[0;34m\u001b[0m\u001b[0;34m\u001b[0m\u001b[0m\n\u001b[0;32m---> 18\u001b[0;31m \u001b[0mhistory\u001b[0m \u001b[0;34m=\u001b[0m \u001b[0mmodel\u001b[0m\u001b[0;34m.\u001b[0m\u001b[0mfit\u001b[0m\u001b[0;34m(\u001b[0m\u001b[0mx\u001b[0m\u001b[0;34m=\u001b[0m\u001b[0msdg\u001b[0m\u001b[0;34m,\u001b[0m \u001b[0mepochs\u001b[0m\u001b[0;34m=\u001b[0m\u001b[0;36m20\u001b[0m\u001b[0;34m,\u001b[0m \u001b[0mvalidation_data\u001b[0m\u001b[0;34m=\u001b[0m\u001b[0;34m(\u001b[0m\u001b[0mX_val_dz\u001b[0m\u001b[0;34m[\u001b[0m\u001b[0;34m:\u001b[0m\u001b[0;34m,\u001b[0m\u001b[0;36m500\u001b[0m\u001b[0;34m-\u001b[0m\u001b[0mn\u001b[0m\u001b[0;34m:\u001b[0m\u001b[0;36m501\u001b[0m\u001b[0;34m+\u001b[0m\u001b[0mn\u001b[0m\u001b[0;34m,\u001b[0m\u001b[0;34m:\u001b[0m\u001b[0;34m]\u001b[0m\u001b[0;34m,\u001b[0m \u001b[0mY_val_dz\u001b[0m\u001b[0;34m)\u001b[0m\u001b[0;34m,\u001b[0m \u001b[0mcallbacks\u001b[0m\u001b[0;34m=\u001b[0m\u001b[0;34m[\u001b[0m\u001b[0mmodel_checkpoint_callback\u001b[0m\u001b[0;34m,\u001b[0m \u001b[0mes\u001b[0m\u001b[0;34m]\u001b[0m\u001b[0;34m)\u001b[0m\u001b[0;34m\u001b[0m\u001b[0;34m\u001b[0m\u001b[0m\n\u001b[0m",
      "\u001b[0;32m/opt/miniconda3/envs/tf1.15.2/lib/python3.7/site-packages/tensorflow_core/python/keras/engine/training.py\u001b[0m in \u001b[0;36mfit\u001b[0;34m(self, x, y, batch_size, epochs, verbose, callbacks, validation_split, validation_data, shuffle, class_weight, sample_weight, initial_epoch, steps_per_epoch, validation_steps, validation_freq, max_queue_size, workers, use_multiprocessing, **kwargs)\u001b[0m\n\u001b[1;32m    725\u001b[0m         \u001b[0mmax_queue_size\u001b[0m\u001b[0;34m=\u001b[0m\u001b[0mmax_queue_size\u001b[0m\u001b[0;34m,\u001b[0m\u001b[0;34m\u001b[0m\u001b[0;34m\u001b[0m\u001b[0m\n\u001b[1;32m    726\u001b[0m         \u001b[0mworkers\u001b[0m\u001b[0;34m=\u001b[0m\u001b[0mworkers\u001b[0m\u001b[0;34m,\u001b[0m\u001b[0;34m\u001b[0m\u001b[0;34m\u001b[0m\u001b[0m\n\u001b[0;32m--> 727\u001b[0;31m         use_multiprocessing=use_multiprocessing)\n\u001b[0m\u001b[1;32m    728\u001b[0m \u001b[0;34m\u001b[0m\u001b[0m\n\u001b[1;32m    729\u001b[0m   def evaluate(self,\n",
      "\u001b[0;32m/opt/miniconda3/envs/tf1.15.2/lib/python3.7/site-packages/tensorflow_core/python/keras/engine/training_generator.py\u001b[0m in \u001b[0;36mfit\u001b[0;34m(self, model, x, y, batch_size, epochs, verbose, callbacks, validation_split, validation_data, shuffle, class_weight, sample_weight, initial_epoch, steps_per_epoch, validation_steps, validation_freq, max_queue_size, workers, use_multiprocessing)\u001b[0m\n\u001b[1;32m    601\u001b[0m         \u001b[0mshuffle\u001b[0m\u001b[0;34m=\u001b[0m\u001b[0mshuffle\u001b[0m\u001b[0;34m,\u001b[0m\u001b[0;34m\u001b[0m\u001b[0;34m\u001b[0m\u001b[0m\n\u001b[1;32m    602\u001b[0m         \u001b[0minitial_epoch\u001b[0m\u001b[0;34m=\u001b[0m\u001b[0minitial_epoch\u001b[0m\u001b[0;34m,\u001b[0m\u001b[0;34m\u001b[0m\u001b[0;34m\u001b[0m\u001b[0m\n\u001b[0;32m--> 603\u001b[0;31m         steps_name='steps_per_epoch')\n\u001b[0m\u001b[1;32m    604\u001b[0m \u001b[0;34m\u001b[0m\u001b[0m\n\u001b[1;32m    605\u001b[0m   def evaluate(self,\n",
      "\u001b[0;32m/opt/miniconda3/envs/tf1.15.2/lib/python3.7/site-packages/tensorflow_core/python/keras/engine/training_generator.py\u001b[0m in \u001b[0;36mmodel_iteration\u001b[0;34m(model, data, steps_per_epoch, epochs, verbose, callbacks, validation_data, validation_steps, validation_freq, class_weight, max_queue_size, workers, use_multiprocessing, shuffle, initial_epoch, mode, batch_size, steps_name, **kwargs)\u001b[0m\n\u001b[1;32m    263\u001b[0m \u001b[0;34m\u001b[0m\u001b[0m\n\u001b[1;32m    264\u001b[0m       \u001b[0mis_deferred\u001b[0m \u001b[0;34m=\u001b[0m \u001b[0;32mnot\u001b[0m \u001b[0mmodel\u001b[0m\u001b[0;34m.\u001b[0m\u001b[0m_is_compiled\u001b[0m\u001b[0;34m\u001b[0m\u001b[0;34m\u001b[0m\u001b[0m\n\u001b[0;32m--> 265\u001b[0;31m       \u001b[0mbatch_outs\u001b[0m \u001b[0;34m=\u001b[0m \u001b[0mbatch_function\u001b[0m\u001b[0;34m(\u001b[0m\u001b[0;34m*\u001b[0m\u001b[0mbatch_data\u001b[0m\u001b[0;34m)\u001b[0m\u001b[0;34m\u001b[0m\u001b[0;34m\u001b[0m\u001b[0m\n\u001b[0m\u001b[1;32m    266\u001b[0m       \u001b[0;32mif\u001b[0m \u001b[0;32mnot\u001b[0m \u001b[0misinstance\u001b[0m\u001b[0;34m(\u001b[0m\u001b[0mbatch_outs\u001b[0m\u001b[0;34m,\u001b[0m \u001b[0mlist\u001b[0m\u001b[0;34m)\u001b[0m\u001b[0;34m:\u001b[0m\u001b[0;34m\u001b[0m\u001b[0;34m\u001b[0m\u001b[0m\n\u001b[1;32m    267\u001b[0m         \u001b[0mbatch_outs\u001b[0m \u001b[0;34m=\u001b[0m \u001b[0;34m[\u001b[0m\u001b[0mbatch_outs\u001b[0m\u001b[0;34m]\u001b[0m\u001b[0;34m\u001b[0m\u001b[0;34m\u001b[0m\u001b[0m\n",
      "\u001b[0;32m/opt/miniconda3/envs/tf1.15.2/lib/python3.7/site-packages/tensorflow_core/python/keras/engine/training.py\u001b[0m in \u001b[0;36mtrain_on_batch\u001b[0;34m(self, x, y, sample_weight, class_weight, reset_metrics)\u001b[0m\n\u001b[1;32m   1015\u001b[0m       \u001b[0mself\u001b[0m\u001b[0;34m.\u001b[0m\u001b[0m_update_sample_weight_modes\u001b[0m\u001b[0;34m(\u001b[0m\u001b[0msample_weights\u001b[0m\u001b[0;34m=\u001b[0m\u001b[0msample_weights\u001b[0m\u001b[0;34m)\u001b[0m\u001b[0;34m\u001b[0m\u001b[0;34m\u001b[0m\u001b[0m\n\u001b[1;32m   1016\u001b[0m       \u001b[0mself\u001b[0m\u001b[0;34m.\u001b[0m\u001b[0m_make_train_function\u001b[0m\u001b[0;34m(\u001b[0m\u001b[0;34m)\u001b[0m\u001b[0;34m\u001b[0m\u001b[0;34m\u001b[0m\u001b[0m\n\u001b[0;32m-> 1017\u001b[0;31m       \u001b[0moutputs\u001b[0m \u001b[0;34m=\u001b[0m \u001b[0mself\u001b[0m\u001b[0;34m.\u001b[0m\u001b[0mtrain_function\u001b[0m\u001b[0;34m(\u001b[0m\u001b[0mins\u001b[0m\u001b[0;34m)\u001b[0m  \u001b[0;31m# pylint: disable=not-callable\u001b[0m\u001b[0;34m\u001b[0m\u001b[0;34m\u001b[0m\u001b[0m\n\u001b[0m\u001b[1;32m   1018\u001b[0m \u001b[0;34m\u001b[0m\u001b[0m\n\u001b[1;32m   1019\u001b[0m     \u001b[0;32mif\u001b[0m \u001b[0mreset_metrics\u001b[0m\u001b[0;34m:\u001b[0m\u001b[0;34m\u001b[0m\u001b[0;34m\u001b[0m\u001b[0m\n",
      "\u001b[0;32m/opt/miniconda3/envs/tf1.15.2/lib/python3.7/site-packages/tensorflow_core/python/keras/backend.py\u001b[0m in \u001b[0;36m__call__\u001b[0;34m(self, inputs)\u001b[0m\n\u001b[1;32m   3459\u001b[0m         \u001b[0mtensor_type\u001b[0m \u001b[0;34m=\u001b[0m \u001b[0mdtypes_module\u001b[0m\u001b[0;34m.\u001b[0m\u001b[0mas_dtype\u001b[0m\u001b[0;34m(\u001b[0m\u001b[0mtensor\u001b[0m\u001b[0;34m.\u001b[0m\u001b[0mdtype\u001b[0m\u001b[0;34m)\u001b[0m\u001b[0;34m\u001b[0m\u001b[0;34m\u001b[0m\u001b[0m\n\u001b[1;32m   3460\u001b[0m         array_vals.append(np.asarray(value,\n\u001b[0;32m-> 3461\u001b[0;31m                                      dtype=tensor_type.as_numpy_dtype))\n\u001b[0m\u001b[1;32m   3462\u001b[0m \u001b[0;34m\u001b[0m\u001b[0m\n\u001b[1;32m   3463\u001b[0m     \u001b[0;32mif\u001b[0m \u001b[0mself\u001b[0m\u001b[0;34m.\u001b[0m\u001b[0mfeed_dict\u001b[0m\u001b[0;34m:\u001b[0m\u001b[0;34m\u001b[0m\u001b[0;34m\u001b[0m\u001b[0m\n",
      "\u001b[0;32m/opt/miniconda3/envs/tf1.15.2/lib/python3.7/site-packages/numpy/core/_asarray.py\u001b[0m in \u001b[0;36masarray\u001b[0;34m(a, dtype, order)\u001b[0m\n\u001b[1;32m     83\u001b[0m \u001b[0;34m\u001b[0m\u001b[0m\n\u001b[1;32m     84\u001b[0m     \"\"\"\n\u001b[0;32m---> 85\u001b[0;31m     \u001b[0;32mreturn\u001b[0m \u001b[0marray\u001b[0m\u001b[0;34m(\u001b[0m\u001b[0ma\u001b[0m\u001b[0;34m,\u001b[0m \u001b[0mdtype\u001b[0m\u001b[0;34m,\u001b[0m \u001b[0mcopy\u001b[0m\u001b[0;34m=\u001b[0m\u001b[0;32mFalse\u001b[0m\u001b[0;34m,\u001b[0m \u001b[0morder\u001b[0m\u001b[0;34m=\u001b[0m\u001b[0morder\u001b[0m\u001b[0;34m)\u001b[0m\u001b[0;34m\u001b[0m\u001b[0;34m\u001b[0m\u001b[0m\n\u001b[0m\u001b[1;32m     86\u001b[0m \u001b[0;34m\u001b[0m\u001b[0m\n\u001b[1;32m     87\u001b[0m \u001b[0;34m\u001b[0m\u001b[0m\n",
      "\u001b[0;31mKeyboardInterrupt\u001b[0m: "
     ]
    }
   ],
   "source": [
    "model = build_model()\n",
    "model.summary()\n",
    "\n",
    "tp = \"ABE\"\n",
    "now = str(int(time.time()))\n",
    "\n",
    "checkpoint_filepath = 'models/conv_net_{}-{}.h5'.format(tp, now)\n",
    "model_checkpoint_callback = tf.keras.callbacks.ModelCheckpoint(\n",
    "    filepath=checkpoint_filepath,\n",
    "    save_weights_only=False,\n",
    "    monitor='val_loss',\n",
    "    mode='min',\n",
    "    save_best_only=True)\n",
    "\n",
    "batch_size = 1024\n",
    "sdg = SeqDataGenerator(X_train_dz[:,500-n:501+n,:], Y_train_dz, batch_size)\n",
    "es = tf.keras.callbacks.EarlyStopping(monitor='val_loss', mode='min', verbose=1, patience=5)\n",
    "history = model.fit(x=sdg, epochs=20, validation_data=(X_val_dz[:,500-n:501+n,:], Y_val_dz), callbacks=[model_checkpoint_callback, es])"
   ]
  },
  {
   "cell_type": "code",
   "execution_count": 34,
   "metadata": {
    "scrolled": false
   },
   "outputs": [
    {
     "name": "stdout",
     "output_type": "stream",
     "text": [
      "Model: \"sequential\"\n",
      "_________________________________________________________________\n",
      "Layer (type)                 Output Shape              Param #   \n",
      "=================================================================\n",
      "conv1d (Conv1D)              (None, 1001, 48)          624       \n",
      "_________________________________________________________________\n",
      "batch_normalization (BatchNo (None, 1001, 48)          192       \n",
      "_________________________________________________________________\n",
      "dropout (Dropout)            (None, 1001, 48)          0         \n",
      "_________________________________________________________________\n",
      "conv1d_1 (Conv1D)            (None, 1001, 64)          9280      \n",
      "_________________________________________________________________\n",
      "batch_normalization_1 (Batch (None, 1001, 64)          256       \n",
      "_________________________________________________________________\n",
      "dropout_1 (Dropout)          (None, 1001, 64)          0         \n",
      "_________________________________________________________________\n",
      "conv1d_2 (Conv1D)            (None, 1001, 100)         19300     \n",
      "_________________________________________________________________\n",
      "batch_normalization_2 (Batch (None, 1001, 100)         400       \n",
      "_________________________________________________________________\n",
      "dropout_2 (Dropout)          (None, 1001, 100)         0         \n",
      "_________________________________________________________________\n",
      "max_pooling1d (MaxPooling1D) (None, 501, 100)          0         \n",
      "_________________________________________________________________\n",
      "conv1d_3 (Conv1D)            (None, 501, 150)          105150    \n",
      "_________________________________________________________________\n",
      "batch_normalization_3 (Batch (None, 501, 150)          600       \n",
      "_________________________________________________________________\n",
      "dropout_3 (Dropout)          (None, 501, 150)          0         \n",
      "_________________________________________________________________\n",
      "conv1d_4 (Conv1D)            (None, 501, 300)          315300    \n",
      "_________________________________________________________________\n",
      "batch_normalization_4 (Batch (None, 501, 300)          1200      \n",
      "_________________________________________________________________\n",
      "dropout_4 (Dropout)          (None, 501, 300)          0         \n",
      "_________________________________________________________________\n",
      "max_pooling1d_1 (MaxPooling1 (None, 167, 300)          0         \n",
      "_________________________________________________________________\n",
      "conv1d_5 (Conv1D)            (None, 167, 200)          420200    \n",
      "_________________________________________________________________\n",
      "batch_normalization_5 (Batch (None, 167, 200)          800       \n",
      "_________________________________________________________________\n",
      "dropout_5 (Dropout)          (None, 167, 200)          0         \n",
      "_________________________________________________________________\n",
      "max_pooling1d_2 (MaxPooling1 (None, 42, 200)           0         \n",
      "_________________________________________________________________\n",
      "flatten (Flatten)            (None, 8400)              0         \n",
      "_________________________________________________________________\n",
      "dense (Dense)                (None, 100)               840100    \n",
      "_________________________________________________________________\n",
      "batch_normalization_6 (Batch (None, 100)               400       \n",
      "_________________________________________________________________\n",
      "dropout_6 (Dropout)          (None, 100)               0         \n",
      "_________________________________________________________________\n",
      "dense_1 (Dense)              (None, 1)                 101       \n",
      "=================================================================\n",
      "Total params: 1,713,903\n",
      "Trainable params: 1,711,979\n",
      "Non-trainable params: 1,924\n",
      "_________________________________________________________________\n",
      "crispr/models/validation/ABE-1601230308.h5\n"
     ]
    }
   ],
   "source": [
    "checkpoint_filepath = \"crispr/models/validation/ABE-1601230308.h5\"\n",
    "\n",
    "model = tf.keras.models.load_model(checkpoint_filepath)\n",
    "model.summary()\n",
    "\n",
    "print(checkpoint_filepath)"
   ]
  },
  {
   "cell_type": "code",
   "execution_count": 35,
   "metadata": {},
   "outputs": [],
   "source": [
    "Y_pred = model.predict(X_test_dz[:,500-n:501+n,:], batch_size = 512)"
   ]
  },
  {
   "cell_type": "code",
   "execution_count": 36,
   "metadata": {},
   "outputs": [
    {
     "name": "stdout",
     "output_type": "stream",
     "text": [
      "(166671, 1)\n",
      "(166671, 1)\n"
     ]
    }
   ],
   "source": [
    "print(Y_pred.shape)\n",
    "print(Y_test_dz.shape)"
   ]
  },
  {
   "cell_type": "code",
   "execution_count": 37,
   "metadata": {},
   "outputs": [],
   "source": [
    "Y_test_dz = Y_test_dz.reshape(Y_test_dz.shape[0], 1)"
   ]
  },
  {
   "cell_type": "code",
   "execution_count": 38,
   "metadata": {},
   "outputs": [
    {
     "name": "stdout",
     "output_type": "stream",
     "text": [
      "Spearman Coeff:\t0.36228485495703194\n",
      "Pearson Coeff:\t0.5154214236573327\n"
     ]
    }
   ],
   "source": [
    "from scipy import stats\n",
    "def getSpearman(arr1, arr2):    \n",
    "    return stats.spearmanr(arr1.astype(\"float64\"), arr2.astype(\"float64\"))\n",
    "import scipy\n",
    "print(\"Spearman Coeff:\\t\"+str(getSpearman(Y_pred, Y_test_dz)[0]))\n",
    "print(\"Pearson Coeff:\\t\"+str(scipy.stats.pearsonr(Y_pred.flatten(), Y_test_dz.flatten())[0]))"
   ]
  },
  {
   "cell_type": "code",
   "execution_count": 42,
   "metadata": {},
   "outputs": [],
   "source": [
    "from scipy.stats import kde\n",
    "import matplotlib.pyplot as plt\n",
    "nbins=100\n",
    "x = Y_pred.flatten()\n",
    "y = Y_test_dz.flatten()\n",
    "k = kde.gaussian_kde([x,y])\n",
    "xi, yi = np.mgrid[x.min():x.max():nbins*1j, y.min():y.max():nbins*1j]\n",
    "zi = k(np.vstack([xi.flatten(), yi.flatten()]))"
   ]
  },
  {
   "cell_type": "code",
   "execution_count": 43,
   "metadata": {},
   "outputs": [
    {
     "data": {
      "image/png": "[encoded data removed]",
      "text/plain": [
       "<Figure size 432x288 with 1 Axes>"
      ]
     },
     "metadata": {},
     "output_type": "display_data"
    },
    {
     "name": "stdout",
     "output_type": "stream",
     "text": [
      "Spearman Coeff:\t0.36228485495703194\n",
      "Pearson Coeff:\t0.5154214236573327\n"
     ]
    }
   ],
   "source": [
    "from matplotlib import colors\n",
    "import matplotlib\n",
    "plt.style.use(['dark_background'])\n",
    "exp = \"158B Chrom 20-X\"\n",
    "plt.axis('square')\n",
    "plt.ylabel(\"Observed from Experiment {}\".format(exp))\n",
    "plt.xlabel(\"Predicted from Experiment {}\".format(exp))\n",
    "plt.title(\"ABE ConvNet(Seq. length = 1001)\")\n",
    "plt.xlim(0,1)\n",
    "plt.ylim(0,1)\n",
    "plt.pcolormesh(xi, yi, zi.reshape(xi.shape),cmap=plt.cm.inferno, norm=matplotlib.colors.LogNorm(vmin=1e-2), snap=False)\n",
    "plt.show()\n",
    "import scipy\n",
    "print(\"Spearman Coeff:\\t\"+str(getSpearman(Y_pred, Y_test_dz)[0]))\n",
    "print(\"Pearson Coeff:\\t\"+str(scipy.stats.pearsonr(Y_pred.flatten(), Y_test_dz.flatten())[0]))"
   ]
  },
  {
   "cell_type": "code",
   "execution_count": null,
   "metadata": {},
   "outputs": [],
   "source": []
  }
 ],
 "metadata": {
  "kernelspec": {
   "display_name": "Python [conda env:tf1.15.2]",
   "language": "python",
   "name": "conda-env-tf1.15.2-py"
  },
  "language_info": {
   "codemirror_mode": {
    "name": "ipython",
    "version": 3
   },
   "file_extension": ".py",
   "mimetype": "text/x-python",
   "name": "python",
   "nbconvert_exporter": "python",
   "pygments_lexer": "ipython3",
   "version": "3.7.7"
  }
 },
 "nbformat": 4,
 "nbformat_minor": 4
}
