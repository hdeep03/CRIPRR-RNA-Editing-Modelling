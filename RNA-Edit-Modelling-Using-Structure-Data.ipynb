{
 "cells": [
  {
   "cell_type": "markdown",
   "metadata": {},
   "source": [
    "# CRISPR-RNA-Editing Using Structure Data\n",
    "Harsh D. <br/>\n",
    "Updated on 9/15/20\n",
    "#### Notebook to train models based on 101 bp sequences and structure rates and the edit rates contained in the metadata for each sample in the .fasta file."
   ]
  },
  {
   "cell_type": "code",
   "execution_count": 1,
   "metadata": {},
   "outputs": [],
   "source": [
    "import os\n",
    "\n",
    "os.environ[\"CUDA_DEVICE_ORDER\"] = \"PCI_BUS_ID\"\n",
    "os.environ[\"CUDA_VISIBLE_DEVICES\"] = \"0\" \n",
    "\n",
    "import tensorflow as tf\n",
    "from tensorflow import keras\n",
    "from tensorflow.keras import layers, activations"
   ]
  },
  {
   "cell_type": "code",
   "execution_count": 2,
   "metadata": {},
   "outputs": [],
   "source": [
    "tp = \"ABE\"\n",
    "DATA_DIR = \"crispr/data/CRISPR-{}-RNA-DATA/fastas/{}-sequence/\".format(tp, tp)\n",
    "STRUCT_DIR = \"crispr/data/CRISPR-{}-RNA-DATA/fastas/{}-secondary/\".format(tp, tp)\n"
   ]
  },
  {
   "cell_type": "code",
   "execution_count": 3,
   "metadata": {},
   "outputs": [],
   "source": [
    "import numpy as np\n",
    "from sklearn.preprocessing import LabelEncoder\n",
    "from sklearn.preprocessing import OneHotEncoder\n",
    "\n",
    "def seq_to_onehot(seq): \n",
    "    seq = seq.strip()\n",
    "    values = list(seq+\"ACTG\") \n",
    "    label_encoder = LabelEncoder();\n",
    "    integer_encoded = label_encoder.fit_transform(values);\n",
    "    onehot_encoder = OneHotEncoder(sparse=False);\n",
    "    integer_encoded = integer_encoded.reshape(len(integer_encoded), 1);\n",
    "    onehot_encoded = onehot_encoder.fit_transform(integer_encoded); # encodes the sequence as a one hot vector\n",
    "    return onehot_encoded[:-4] \n",
    "def struct_to_onehot(seq): \n",
    "    seq = seq.strip()\n",
    "    values = list(\".()\"+seq) \n",
    "    label_encoder = LabelEncoder();\n",
    "    integer_encoded = label_encoder.fit_transform(values);\n",
    "    onehot_encoder = OneHotEncoder(sparse=False);\n",
    "    integer_encoded = integer_encoded.reshape(len(integer_encoded), 1);\n",
    "    onehot_encoded = onehot_encoder.fit_transform(integer_encoded); # encodes the structure as a one hot vector\n",
    "    return onehot_encoded[3:] \n",
    "def editdata(line):\n",
    "    data = line.split(\"_\")\n",
    "    return float(data[3])"
   ]
  },
  {
   "cell_type": "code",
   "execution_count": 4,
   "metadata": {},
   "outputs": [],
   "source": [
    "from scipy import stats\n",
    "def getSpearman(arr1, arr2):    \n",
    "    return stats.spearmanr(arr1.astype(\"float64\"), arr2.astype(\"float64\"))"
   ]
  },
  {
   "cell_type": "code",
   "execution_count": 5,
   "metadata": {},
   "outputs": [],
   "source": [
    "import time\n",
    "def getData(chromosome):\n",
    "    start = time.time()\n",
    "    out = list()\n",
    "    inp = list()\n",
    "    with gzip.open(DATA_DIR+'{}.chr{}.fasta.gz'.format(exp, chromosome),'rt') as f:\n",
    "        for line in f:\n",
    "            if line[0:1] == \">\":\n",
    "                y = editdata(line)\n",
    "                out.append(y)\n",
    "            else:\n",
    "                x = seq_to_onehot(line)\n",
    "                assert x.shape[1] == 4\n",
    "                inp.append(x)\n",
    "    print(time.time()-start)\n",
    "    X = np.stack(inp)\n",
    "    Y = np.stack(out)\n",
    "    print(Y.shape[0])\n",
    "    return (X, Y.reshape(Y.shape[0], 1))\n",
    "def getStructureData(chromosome):\n",
    "    start = time.time()\n",
    "    inp = list()\n",
    "    with gzip.open(STRUCT_DIR+'{}.chr{}.structure.txt.gz'.format(exp, chromosome),'rt') as f:\n",
    "        for line in f:\n",
    "            #line = line.decode(\"utf-8\")\n",
    "            if line[0:1] == \">\":\n",
    "                continue\n",
    "            else:\n",
    "                x = struct_to_onehot(line)\n",
    "                assert x.shape[1] == 3\n",
    "                inp.append(x)\n",
    "    print(time.time()-start)\n",
    "    X = np.stack(inp)\n",
    "    return X\n",
    "def getComboData(chromosome):\n",
    "    start = time.time()\n",
    "    X_seq, Y = getData(chromosome)\n",
    "    X_struct = getStructureData(chromosome)\n",
    "    assert X_seq.shape[0] == X_struct.shape[0]\n",
    "    n = X_seq.shape[0]\n",
    "    inp = list()\n",
    "    for a in range(n):\n",
    "        lx = list()\n",
    "        for x in range(101):\n",
    "            l = np.zeros((12), dtype='float32')\n",
    "            a_max = np.argmax(X_seq[a][x])\n",
    "            b_max = np.argmax(X_struct[a][x])\n",
    "            l[3*a_max+b_max] = 1\n",
    "            lx.append(l)\n",
    "        inp.append(np.stack(lx))\n",
    "    X = np.stack(inp)\n",
    "    end = time.time()\n",
    "    X = X.astype('float32') \n",
    "    print(\"Combo chr-{} in {} sec.\".format(chromosome, end-start))\n",
    "    return (X, Y)"
   ]
  },
  {
   "cell_type": "code",
   "execution_count": 6,
   "metadata": {},
   "outputs": [],
   "source": [
    "from multiprocessing import Pool\n",
    "\n",
    "def load_data(chromosomes):\n",
    "    start = time.time()\n",
    "    num_workers = len(chromosomes)\n",
    "    X_data = list()\n",
    "    Y_data = list()\n",
    "    with Pool(processes=num_workers) as pool:\n",
    "        res = pool.map(getComboData, chromosomes)\n",
    "        for tup in res:\n",
    "            X_data.append(tup[0])\n",
    "            Y_data.append(tup[1])\n",
    "    X = np.concatenate(X_data, axis=0)\n",
    "    Y = np.concatenate(Y_data, axis=0)\n",
    "    print(time.time()-start)\n",
    "    print(\"TOT: {}\".format(X.shape[0]))\n",
    "    return (X, Y)\n",
    "        \n",
    "    "
   ]
  },
  {
   "cell_type": "code",
   "execution_count": 7,
   "metadata": {
    "scrolled": false
   },
   "outputs": [
    {
     "name": "stdout",
     "output_type": "stream",
     "text": [
      "['1', '2', '3', '4', '5', '6', '7', '8', '9', '10', '11', '12', '13', '14', '15', '16', '17', '18', '19']\n",
      "['20', '21', '22', 'X']\n",
      "30.66553521156311\n",
      "34345\n",
      "34.41001105308533\n",
      "38151\n",
      "55.77419877052307\n",
      "62624\n",
      "57.40650248527527\n",
      "64324\n",
      "59.861244678497314\n",
      "67685\n",
      "30.02122473716736\n",
      "61.140766859054565\n",
      "69224\n",
      "66.75036454200745\n",
      "90018\n",
      "33.44336724281311\n",
      "72.76024889945984\n",
      "84451\n",
      "79.01836133003235\n",
      "88969\n",
      "80.6155116558075\n",
      "91243\n",
      "87.10998702049255\n",
      "99850\n",
      "100.9805805683136\n",
      "113782\n",
      "102.44268608093262\n",
      "116020\n",
      "105.63262915611267\n",
      "119462\n",
      "52.49194955825806\n",
      "109.33457469940186\n",
      "109.60941815376282\n",
      "124179\n",
      "123261\n",
      "55.533384799957275\n",
      "116.31307911872864\n",
      "130922\n",
      "56.85665702819824\n",
      "58.693915128707886\n",
      "Combo chr-18 in 123.93345403671265 sec.\n",
      "125.80052399635315\n",
      "152609\n",
      "59.33147716522217\n",
      "Combo chr-13 in 134.01649045944214 sec.\n",
      "77.9044349193573\n",
      "76.54950332641602\n",
      "79.53564620018005\n",
      "86.7087390422821\n",
      "Combo chr-8 in 189.18690371513367 sec.\n",
      "86.84062552452087\n",
      "98.94891428947449\n",
      "100.43369197845459\n",
      "86.92052936553955\n",
      "101.27833485603333\n",
      "Combo chr-4 in 208.51173853874207 sec.\n",
      "209.72747659683228\n",
      "274532\n",
      "103.60209083557129\n",
      "Combo chr-15 in 219.78546237945557 sec.\n",
      "Combo chr-14 in 223.37706780433655 sec.\n",
      "123.27255511283875\n",
      "Combo chr-16 in 264.45509147644043 sec.\n",
      "Combo chr-19 in 271.8933928012848 sec.\n",
      "Combo chr-9 in 279.71415996551514 sec.\n",
      "Combo chr-10 in 285.007515668869 sec.\n",
      "Combo chr-11 in 309.0822842121124 sec.\n",
      "Combo chr-7 in 309.45098876953125 sec.\n",
      "Combo chr-6 in 315.44486260414124 sec.\n",
      "Combo chr-3 in 316.98354172706604 sec.\n",
      "Combo chr-5 in 329.3096082210541 sec.\n",
      "Combo chr-17 in 331.9409966468811 sec.\n",
      "Combo chr-12 in 341.6634600162506 sec.\n",
      "177.7841877937317\n",
      "Combo chr-2 in 394.73082637786865 sec.\n",
      "Combo chr-1 in 623.4516270160675 sec.\n",
      "633.4075658321381\n",
      "TOT: 1945651\n",
      "10.503193855285645\n",
      "18157\n",
      "10.150439500808716\n",
      "23.917458534240723\n",
      "41878\n",
      "27.208241939544678\n",
      "47367\n",
      "33.891366720199585\n",
      "59269\n",
      "Combo chr-21 in 36.55415964126587 sec.\n",
      "23.49018621444702\n",
      "26.249849319458008\n",
      "33.0781934261322\n",
      "Combo chr-20 in 83.44795083999634 sec.\n",
      "Combo chr-22 in 93.74259305000305 sec.\n",
      "Combo chr-X in 116.91343903541565 sec.\n",
      "118.6898787021637\n",
      "TOT: 166671\n"
     ]
    }
   ],
   "source": [
    "\n",
    "import gzip\n",
    "import time\n",
    "\n",
    "test_set = [\"20\", \"21\", \"22\", \"X\"]\n",
    "train_set = [str(x) for x in range(1, 23)]\n",
    "train_set.append(\"X\")\n",
    "for e in test_set:\n",
    "    train_set.remove(e)\n",
    "print(train_set)\n",
    "print(test_set)\n",
    "Xtr = list()\n",
    "Ytr = list()\n",
    "\n",
    "train = [\"156B\"]\n",
    "test = \"158B\"\n",
    " \n",
    "for experiment in train:\n",
    "    exp = experiment\n",
    "    X, Y = load_data(train_set)\n",
    "    Xtr.append(X)\n",
    "    Ytr.append(Y)\n",
    "\n",
    "X_train = np.concatenate(Xtr, axis=0)\n",
    "Y_train = np.concatenate(Ytr, axis=0)\n",
    "\n",
    "exp = test\n",
    "X_test, Y_test = load_data(test_set)\n"
   ]
  },
  {
   "cell_type": "code",
   "execution_count": 8,
   "metadata": {},
   "outputs": [
    {
     "name": "stdout",
     "output_type": "stream",
     "text": [
      "(1945651, 101, 12)\n",
      "(1945651, 1)\n",
      "(166671, 101, 12)\n",
      "(166671, 1)\n"
     ]
    }
   ],
   "source": [
    "X_train_dz = X_train.astype(\"float64\")\n",
    "Y_train_dz = Y_train\n",
    "print(X_train_dz.shape)\n",
    "print(Y_train_dz.shape)\n",
    "X_test_dz = X_test.astype(\"float64\")\n",
    "Y_test_dz = Y_test\n",
    "print(X_test_dz.shape)\n",
    "print(Y_test_dz.shape)"
   ]
  },
  {
   "cell_type": "code",
   "execution_count": 11,
   "metadata": {},
   "outputs": [],
   "source": [
    "import tensorflow as tf\n",
    "from tensorflow import keras\n",
    "from tensorflow.keras import layers, activations, Model, backend\n",
    "from tensorflow.keras.layers import Input, Conv1D, ReLU, BatchNormalization,\\\n",
    "                                    Add, Activation, AveragePooling2D, Flatten, Dense\n",
    "import tensorflow.keras.backend as K\n",
    "K.clear_session()\n",
    "n = 50\n",
    "def quartic_loss(y_true, y_pred):\n",
    "    return K.square(K.square(y_true - y_pred))\n",
    "def build_model():\n",
    "    model = keras.Sequential(\n",
    "        [\n",
    "        layers.Input(shape=(2*n+1,12)),\n",
    "        layers.Conv1D(128, 16, padding='same'),\n",
    "        layers.BatchNormalization(),\n",
    "        layers.Activation(activation='relu'),\n",
    "        layers.Conv1D(128, 8, padding='same'),\n",
    "        layers.BatchNormalization(),\n",
    "        layers.Activation(activation='relu'),\n",
    "        layers.Conv1D(64, 4, padding='same'),\n",
    "        layers.BatchNormalization(),\n",
    "        layers.Activation(activation='relu'),\n",
    "        layers.Conv1D(64, 8, padding='same'),\n",
    "        layers.BatchNormalization(),\n",
    "        layers.Activation(activation='relu'),\n",
    "        layers.Conv1D(32, 8, padding='same'),\n",
    "        layers.BatchNormalization(),\n",
    "        layers.Activation(activation='relu'),\n",
    "        layers.Flatten(),\n",
    "        layers.Dense(32, activation='tanh'),\n",
    "        layers.BatchNormalization(),\n",
    "        layers.Dense(1, activation='sigmoid'),\n",
    "        ]\n",
    "    )\n",
    "    optimizer = tf.keras.optimizers.RMSprop(lr=0.01)\n",
    "    model.compile(loss='mse',\n",
    "                optimizer=optimizer,\n",
    "                metrics=['mae', 'mse'])\n",
    "    return model\n",
    "def build_func_model():\n",
    "    dout = 0.3\n",
    "    model = keras.Sequential(\n",
    "        [\n",
    "        layers.Input(shape=(2*n+1,12)),\n",
    "        layers.Conv1D(128, 32, padding='same', activation='relu'),\n",
    "        layers.BatchNormalization(),\n",
    "        layers.Dropout(dout),\n",
    "        \n",
    "        layers.Conv1D(64, 4, padding='same', activation='relu'),\n",
    "        layers.BatchNormalization(),\n",
    "        layers.Dropout(dout),  \n",
    "        layers.Conv1D(100, 4, padding='same', activation='relu'),\n",
    "        layers.BatchNormalization(),\n",
    "        layers.Dropout(dout),  \n",
    "        layers.MaxPooling1D(2, padding='same'),\n",
    "        layers.Conv1D(100, 8, padding='same', activation='relu'),\n",
    "        layers.BatchNormalization(),\n",
    "        layers.Dropout(dout),\n",
    "        layers.Conv1D(50, 4, padding='same', activation='relu'),\n",
    "        layers.BatchNormalization(),\n",
    "        layers.Dropout(dout),\n",
    "        layers.MaxPooling1D(3, padding='same'),\n",
    "        layers.Conv1D(100, 4, padding='same', activation='relu'),\n",
    "        layers.BatchNormalization(),\n",
    "        layers.Dropout(dout),\n",
    "        layers.MaxPooling1D(4, padding='same'),\n",
    "        layers.Conv1D(100, 8, padding='same', activation='relu'),\n",
    "        layers.BatchNormalization(),\n",
    "        layers.Dropout(dout),\n",
    "        layers.Flatten(),\n",
    "        layers.Dense(32, activation='relu'),\n",
    "        layers.BatchNormalization(),\n",
    "        layers.Dropout(dout),\n",
    "        layers.Dense(1, activation='sigmoid'),\n",
    "        ]\n",
    "    )\n",
    "    optimizer = tf.keras.optimizers.RMSprop()\n",
    "    model.compile(loss='mse',\n",
    "                optimizer=optimizer,\n",
    "                metrics=['mae', 'mse'])\n",
    "    return model\n",
    "#def focal_loss(y_true, y_pred):\n",
    "    \n",
    "    \n",
    "def build_resnet():\n",
    "    inputs = keras.Input(shape=(2*n+1,12))\n",
    "    lmc = 32\n",
    "    s = 16\n",
    "    conl = layers.Conv1D(lmc, 1, padding='same')(inputs)\n",
    "    x = layers.Conv1D(lmc, 1, padding='same', activation='relu')(conl)\n",
    "    y = rb(conl, lmc, s)\n",
    "    y = rb(y, lmc, s)\n",
    "    y = rb(y, lmc, s)\n",
    "    y = rb(y, lmc, s)\n",
    "    y = layers.Conv1D(lmc, 1, padding='same')(y)\n",
    "    x = Add()([x,y])\n",
    "    x = Conv1D(5, 1, padding='same')(x)\n",
    "    x = Flatten()(x)\n",
    "    output = Dense(1, activation='sigmoid')(x)\n",
    "    model = Model(inputs, output)\n",
    "    optimizer = tf.keras.optimizers.RMSprop()\n",
    "    model.compile(loss=\"mse\",\n",
    "                optimizer=optimizer,\n",
    "                metrics=['mae', 'mse'])\n",
    "    return model\n",
    "def rb(x, n, w):  \n",
    "    y = layers.BatchNormalization()(x)\n",
    "    y = Activation('relu')(y)\n",
    "    y = Conv1D(n, w, padding='same')(y)\n",
    "    y = layers.BatchNormalization()(y)\n",
    "    y = Activation('relu')(y)\n",
    "    y = Conv1D(n, w, padding='same')(y)\n",
    "    out = Add()([x, y])\n",
    "    return out\n",
    "    "
   ]
  },
  {
   "cell_type": "code",
   "execution_count": 12,
   "metadata": {
    "scrolled": false
   },
   "outputs": [
    {
     "name": "stdout",
     "output_type": "stream",
     "text": [
      "Model: \"sequential\"\n",
      "_________________________________________________________________\n",
      "Layer (type)                 Output Shape              Param #   \n",
      "=================================================================\n",
      "conv1d (Conv1D)              (None, 101, 128)          49280     \n",
      "_________________________________________________________________\n",
      "batch_normalization (BatchNo (None, 101, 128)          512       \n",
      "_________________________________________________________________\n",
      "dropout (Dropout)            (None, 101, 128)          0         \n",
      "_________________________________________________________________\n",
      "conv1d_1 (Conv1D)            (None, 101, 64)           32832     \n",
      "_________________________________________________________________\n",
      "batch_normalization_1 (Batch (None, 101, 64)           256       \n",
      "_________________________________________________________________\n",
      "dropout_1 (Dropout)          (None, 101, 64)           0         \n",
      "_________________________________________________________________\n",
      "conv1d_2 (Conv1D)            (None, 101, 100)          25700     \n",
      "_________________________________________________________________\n",
      "batch_normalization_2 (Batch (None, 101, 100)          400       \n",
      "_________________________________________________________________\n",
      "dropout_2 (Dropout)          (None, 101, 100)          0         \n",
      "_________________________________________________________________\n",
      "max_pooling1d (MaxPooling1D) (None, 51, 100)           0         \n",
      "_________________________________________________________________\n",
      "conv1d_3 (Conv1D)            (None, 51, 100)           80100     \n",
      "_________________________________________________________________\n",
      "batch_normalization_3 (Batch (None, 51, 100)           400       \n",
      "_________________________________________________________________\n",
      "dropout_3 (Dropout)          (None, 51, 100)           0         \n",
      "_________________________________________________________________\n",
      "conv1d_4 (Conv1D)            (None, 51, 50)            20050     \n",
      "_________________________________________________________________\n",
      "batch_normalization_4 (Batch (None, 51, 50)            200       \n",
      "_________________________________________________________________\n",
      "dropout_4 (Dropout)          (None, 51, 50)            0         \n",
      "_________________________________________________________________\n",
      "max_pooling1d_1 (MaxPooling1 (None, 17, 50)            0         \n",
      "_________________________________________________________________\n",
      "conv1d_5 (Conv1D)            (None, 17, 100)           20100     \n",
      "_________________________________________________________________\n",
      "batch_normalization_5 (Batch (None, 17, 100)           400       \n",
      "_________________________________________________________________\n",
      "dropout_5 (Dropout)          (None, 17, 100)           0         \n",
      "_________________________________________________________________\n",
      "max_pooling1d_2 (MaxPooling1 (None, 5, 100)            0         \n",
      "_________________________________________________________________\n",
      "conv1d_6 (Conv1D)            (None, 5, 100)            80100     \n",
      "_________________________________________________________________\n",
      "batch_normalization_6 (Batch (None, 5, 100)            400       \n",
      "_________________________________________________________________\n",
      "dropout_6 (Dropout)          (None, 5, 100)            0         \n",
      "_________________________________________________________________\n",
      "flatten (Flatten)            (None, 500)               0         \n",
      "_________________________________________________________________\n",
      "dense (Dense)                (None, 32)                16032     \n",
      "_________________________________________________________________\n",
      "batch_normalization_7 (Batch (None, 32)                128       \n",
      "_________________________________________________________________\n",
      "dropout_7 (Dropout)          (None, 32)                0         \n",
      "_________________________________________________________________\n",
      "dense_1 (Dense)              (None, 1)                 33        \n",
      "=================================================================\n",
      "Total params: 326,923\n",
      "Trainable params: 325,575\n",
      "Non-trainable params: 1,348\n",
      "_________________________________________________________________\n",
      "crispr/models/validation/structure_net-ABE-1603828683.h5\n",
      "Train on 1945651 samples, validate on 166671 samples\n",
      "Epoch 1/100\n",
      "1945651/1945651 [==============================] - 140s 72us/sample - loss: 0.0322 - mean_absolute_error: 0.1008 - mean_squared_error: 0.0322 - val_loss: 0.0015 - val_mean_absolute_error: 0.0156 - val_mean_squared_error: 0.0015\n",
      "Epoch 2/100\n",
      "1945651/1945651 [==============================] - 117s 60us/sample - loss: 0.0011 - mean_absolute_error: 0.0147 - mean_squared_error: 0.0011 - val_loss: 0.0058 - val_mean_absolute_error: 0.0191 - val_mean_squared_error: 0.0058\n",
      "Epoch 3/100\n",
      "1945651/1945651 [==============================] - 121s 62us/sample - loss: 9.6518e-04 - mean_absolute_error: 0.0139 - mean_squared_error: 9.6518e-04 - val_loss: 0.0011 - val_mean_absolute_error: 0.0146 - val_mean_squared_error: 0.0011\n",
      "Epoch 4/100\n",
      "1945651/1945651 [==============================] - 115s 59us/sample - loss: 9.1205e-04 - mean_absolute_error: 0.0134 - mean_squared_error: 9.1205e-04 - val_loss: 0.0016 - val_mean_absolute_error: 0.0141 - val_mean_squared_error: 0.0016\n",
      "Epoch 5/100\n",
      "1945651/1945651 [==============================] - 120s 62us/sample - loss: 8.8384e-04 - mean_absolute_error: 0.0132 - mean_squared_error: 8.8384e-04 - val_loss: 0.0014 - val_mean_absolute_error: 0.0136 - val_mean_squared_error: 0.0014\n",
      "Epoch 6/100\n",
      "1945651/1945651 [==============================] - 114s 59us/sample - loss: 8.6351e-04 - mean_absolute_error: 0.0131 - mean_squared_error: 8.6351e-04 - val_loss: 0.0011 - val_mean_absolute_error: 0.0133 - val_mean_squared_error: 0.0011\n",
      "Epoch 7/100\n",
      "1945651/1945651 [==============================] - 113s 58us/sample - loss: 8.3926e-04 - mean_absolute_error: 0.0130 - mean_squared_error: 8.3927e-04 - val_loss: 8.8116e-04 - val_mean_absolute_error: 0.0139 - val_mean_squared_error: 8.8116e-04\n",
      "Epoch 8/100\n",
      "1945651/1945651 [==============================] - 114s 59us/sample - loss: 8.3116e-04 - mean_absolute_error: 0.0130 - mean_squared_error: 8.3116e-04 - val_loss: 8.6715e-04 - val_mean_absolute_error: 0.0133 - val_mean_squared_error: 8.6715e-04\n",
      "Epoch 9/100\n",
      "1945651/1945651 [==============================] - 121s 62us/sample - loss: 8.1624e-04 - mean_absolute_error: 0.0129 - mean_squared_error: 8.1624e-04 - val_loss: 8.5490e-04 - val_mean_absolute_error: 0.0142 - val_mean_squared_error: 8.5490e-04\n",
      "Epoch 10/100\n",
      "1945651/1945651 [==============================] - 114s 59us/sample - loss: 8.0342e-04 - mean_absolute_error: 0.0129 - mean_squared_error: 8.0342e-04 - val_loss: 8.4995e-04 - val_mean_absolute_error: 0.0135 - val_mean_squared_error: 8.4995e-04\n",
      "Epoch 11/100\n",
      "1945651/1945651 [==============================] - 120s 62us/sample - loss: 7.9201e-04 - mean_absolute_error: 0.0129 - mean_squared_error: 7.9201e-04 - val_loss: 8.3971e-04 - val_mean_absolute_error: 0.0139 - val_mean_squared_error: 8.3971e-04\n",
      "Epoch 12/100\n",
      "1945651/1945651 [==============================] - 114s 58us/sample - loss: 7.8063e-04 - mean_absolute_error: 0.0128 - mean_squared_error: 7.8063e-04 - val_loss: 8.6680e-04 - val_mean_absolute_error: 0.0153 - val_mean_squared_error: 8.6680e-04\n",
      "Epoch 13/100\n",
      "1945651/1945651 [==============================] - 114s 58us/sample - loss: 7.6320e-04 - mean_absolute_error: 0.0128 - mean_squared_error: 7.6320e-04 - val_loss: 8.5257e-04 - val_mean_absolute_error: 0.0133 - val_mean_squared_error: 8.5257e-04\n",
      "Epoch 14/100\n",
      "1658880/1945651 [========================>.....] - ETA: 16s - loss: 7.6173e-04 - mean_absolute_error: 0.0128 - mean_squared_error: 7.6173e-04"
     ]
    },
    {
     "ename": "KeyboardInterrupt",
     "evalue": "",
     "output_type": "error",
     "traceback": [
      "\u001b[0;31m---------------------------------------------------------------------------\u001b[0m",
      "\u001b[0;31mKeyboardInterrupt\u001b[0m                         Traceback (most recent call last)",
      "\u001b[0;32m<ipython-input-12-a354b121987c>\u001b[0m in \u001b[0;36m<module>\u001b[0;34m\u001b[0m\n\u001b[1;32m     17\u001b[0m \u001b[0;34m\u001b[0m\u001b[0m\n\u001b[1;32m     18\u001b[0m \u001b[0mes\u001b[0m \u001b[0;34m=\u001b[0m \u001b[0mtf\u001b[0m\u001b[0;34m.\u001b[0m\u001b[0mkeras\u001b[0m\u001b[0;34m.\u001b[0m\u001b[0mcallbacks\u001b[0m\u001b[0;34m.\u001b[0m\u001b[0mEarlyStopping\u001b[0m\u001b[0;34m(\u001b[0m\u001b[0mmonitor\u001b[0m\u001b[0;34m=\u001b[0m\u001b[0;34m'val_loss'\u001b[0m\u001b[0;34m,\u001b[0m \u001b[0mmode\u001b[0m\u001b[0;34m=\u001b[0m\u001b[0;34m'min'\u001b[0m\u001b[0;34m,\u001b[0m \u001b[0mverbose\u001b[0m\u001b[0;34m=\u001b[0m\u001b[0;36m1\u001b[0m\u001b[0;34m,\u001b[0m \u001b[0mpatience\u001b[0m\u001b[0;34m=\u001b[0m\u001b[0;36m10\u001b[0m\u001b[0;34m)\u001b[0m\u001b[0;34m\u001b[0m\u001b[0;34m\u001b[0m\u001b[0m\n\u001b[0;32m---> 19\u001b[0;31m \u001b[0mhistory\u001b[0m \u001b[0;34m=\u001b[0m \u001b[0mmodel\u001b[0m\u001b[0;34m.\u001b[0m\u001b[0mfit\u001b[0m\u001b[0;34m(\u001b[0m\u001b[0mx\u001b[0m\u001b[0;34m=\u001b[0m\u001b[0mX_train_dz\u001b[0m\u001b[0;34m[\u001b[0m\u001b[0;34m:\u001b[0m\u001b[0;34m,\u001b[0m\u001b[0;36m50\u001b[0m\u001b[0;34m-\u001b[0m\u001b[0mn\u001b[0m\u001b[0;34m:\u001b[0m\u001b[0;36m51\u001b[0m\u001b[0;34m+\u001b[0m\u001b[0mn\u001b[0m\u001b[0;34m,\u001b[0m\u001b[0;34m:\u001b[0m\u001b[0;34m]\u001b[0m\u001b[0;34m,\u001b[0m \u001b[0my\u001b[0m\u001b[0;34m=\u001b[0m\u001b[0mY_train_dz\u001b[0m\u001b[0;34m,\u001b[0m \u001b[0mepochs\u001b[0m\u001b[0;34m=\u001b[0m\u001b[0;36m100\u001b[0m\u001b[0;34m,\u001b[0m \u001b[0mbatch_size\u001b[0m \u001b[0;34m=\u001b[0m \u001b[0;36m4096\u001b[0m\u001b[0;34m,\u001b[0m \u001b[0mvalidation_data\u001b[0m \u001b[0;34m=\u001b[0m \u001b[0;34m[\u001b[0m\u001b[0mX_test_dz\u001b[0m\u001b[0;34m[\u001b[0m\u001b[0;34m:\u001b[0m\u001b[0;34m,\u001b[0m\u001b[0;36m50\u001b[0m\u001b[0;34m-\u001b[0m\u001b[0mn\u001b[0m\u001b[0;34m:\u001b[0m\u001b[0;36m51\u001b[0m\u001b[0;34m+\u001b[0m\u001b[0mn\u001b[0m\u001b[0;34m,\u001b[0m\u001b[0;34m:\u001b[0m\u001b[0;34m]\u001b[0m\u001b[0;34m,\u001b[0m \u001b[0mY_test_dz\u001b[0m\u001b[0;34m]\u001b[0m\u001b[0;34m,\u001b[0m \u001b[0mcallbacks\u001b[0m\u001b[0;34m=\u001b[0m\u001b[0;34m[\u001b[0m\u001b[0mmodel_checkpoint_callback\u001b[0m\u001b[0;34m]\u001b[0m\u001b[0;34m,\u001b[0m \u001b[0muse_multiprocessing\u001b[0m\u001b[0;34m=\u001b[0m\u001b[0;32mTrue\u001b[0m\u001b[0;34m)\u001b[0m\u001b[0;34m\u001b[0m\u001b[0;34m\u001b[0m\u001b[0m\n\u001b[0m",
      "\u001b[0;32m/opt/miniconda3/envs/tf1.15.2/lib/python3.7/site-packages/tensorflow_core/python/keras/engine/training.py\u001b[0m in \u001b[0;36mfit\u001b[0;34m(self, x, y, batch_size, epochs, verbose, callbacks, validation_split, validation_data, shuffle, class_weight, sample_weight, initial_epoch, steps_per_epoch, validation_steps, validation_freq, max_queue_size, workers, use_multiprocessing, **kwargs)\u001b[0m\n\u001b[1;32m    725\u001b[0m         \u001b[0mmax_queue_size\u001b[0m\u001b[0;34m=\u001b[0m\u001b[0mmax_queue_size\u001b[0m\u001b[0;34m,\u001b[0m\u001b[0;34m\u001b[0m\u001b[0;34m\u001b[0m\u001b[0m\n\u001b[1;32m    726\u001b[0m         \u001b[0mworkers\u001b[0m\u001b[0;34m=\u001b[0m\u001b[0mworkers\u001b[0m\u001b[0;34m,\u001b[0m\u001b[0;34m\u001b[0m\u001b[0;34m\u001b[0m\u001b[0m\n\u001b[0;32m--> 727\u001b[0;31m         use_multiprocessing=use_multiprocessing)\n\u001b[0m\u001b[1;32m    728\u001b[0m \u001b[0;34m\u001b[0m\u001b[0m\n\u001b[1;32m    729\u001b[0m   def evaluate(self,\n",
      "\u001b[0;32m/opt/miniconda3/envs/tf1.15.2/lib/python3.7/site-packages/tensorflow_core/python/keras/engine/training_arrays.py\u001b[0m in \u001b[0;36mfit\u001b[0;34m(self, model, x, y, batch_size, epochs, verbose, callbacks, validation_split, validation_data, shuffle, class_weight, sample_weight, initial_epoch, steps_per_epoch, validation_steps, validation_freq, **kwargs)\u001b[0m\n\u001b[1;32m    673\u001b[0m         \u001b[0mvalidation_steps\u001b[0m\u001b[0;34m=\u001b[0m\u001b[0mvalidation_steps\u001b[0m\u001b[0;34m,\u001b[0m\u001b[0;34m\u001b[0m\u001b[0;34m\u001b[0m\u001b[0m\n\u001b[1;32m    674\u001b[0m         \u001b[0mvalidation_freq\u001b[0m\u001b[0;34m=\u001b[0m\u001b[0mvalidation_freq\u001b[0m\u001b[0;34m,\u001b[0m\u001b[0;34m\u001b[0m\u001b[0;34m\u001b[0m\u001b[0m\n\u001b[0;32m--> 675\u001b[0;31m         steps_name='steps_per_epoch')\n\u001b[0m\u001b[1;32m    676\u001b[0m \u001b[0;34m\u001b[0m\u001b[0m\n\u001b[1;32m    677\u001b[0m   def evaluate(self,\n",
      "\u001b[0;32m/opt/miniconda3/envs/tf1.15.2/lib/python3.7/site-packages/tensorflow_core/python/keras/engine/training_arrays.py\u001b[0m in \u001b[0;36mmodel_iteration\u001b[0;34m(model, inputs, targets, sample_weights, batch_size, epochs, verbose, callbacks, val_inputs, val_targets, val_sample_weights, shuffle, initial_epoch, steps_per_epoch, validation_steps, validation_freq, mode, validation_in_fit, prepared_feed_values_from_dataset, steps_name, **kwargs)\u001b[0m\n\u001b[1;32m    392\u001b[0m \u001b[0;34m\u001b[0m\u001b[0m\n\u001b[1;32m    393\u001b[0m         \u001b[0;31m# Get outputs.\u001b[0m\u001b[0;34m\u001b[0m\u001b[0;34m\u001b[0m\u001b[0;34m\u001b[0m\u001b[0m\n\u001b[0;32m--> 394\u001b[0;31m         \u001b[0mbatch_outs\u001b[0m \u001b[0;34m=\u001b[0m \u001b[0mf\u001b[0m\u001b[0;34m(\u001b[0m\u001b[0mins_batch\u001b[0m\u001b[0;34m)\u001b[0m\u001b[0;34m\u001b[0m\u001b[0;34m\u001b[0m\u001b[0m\n\u001b[0m\u001b[1;32m    395\u001b[0m         \u001b[0;32mif\u001b[0m \u001b[0;32mnot\u001b[0m \u001b[0misinstance\u001b[0m\u001b[0;34m(\u001b[0m\u001b[0mbatch_outs\u001b[0m\u001b[0;34m,\u001b[0m \u001b[0mlist\u001b[0m\u001b[0;34m)\u001b[0m\u001b[0;34m:\u001b[0m\u001b[0;34m\u001b[0m\u001b[0;34m\u001b[0m\u001b[0m\n\u001b[1;32m    396\u001b[0m           \u001b[0mbatch_outs\u001b[0m \u001b[0;34m=\u001b[0m \u001b[0;34m[\u001b[0m\u001b[0mbatch_outs\u001b[0m\u001b[0;34m]\u001b[0m\u001b[0;34m\u001b[0m\u001b[0;34m\u001b[0m\u001b[0m\n",
      "\u001b[0;32m/opt/miniconda3/envs/tf1.15.2/lib/python3.7/site-packages/tensorflow_core/python/keras/backend.py\u001b[0m in \u001b[0;36m__call__\u001b[0;34m(self, inputs)\u001b[0m\n\u001b[1;32m   3459\u001b[0m         \u001b[0mtensor_type\u001b[0m \u001b[0;34m=\u001b[0m \u001b[0mdtypes_module\u001b[0m\u001b[0;34m.\u001b[0m\u001b[0mas_dtype\u001b[0m\u001b[0;34m(\u001b[0m\u001b[0mtensor\u001b[0m\u001b[0;34m.\u001b[0m\u001b[0mdtype\u001b[0m\u001b[0;34m)\u001b[0m\u001b[0;34m\u001b[0m\u001b[0;34m\u001b[0m\u001b[0m\n\u001b[1;32m   3460\u001b[0m         array_vals.append(np.asarray(value,\n\u001b[0;32m-> 3461\u001b[0;31m                                      dtype=tensor_type.as_numpy_dtype))\n\u001b[0m\u001b[1;32m   3462\u001b[0m \u001b[0;34m\u001b[0m\u001b[0m\n\u001b[1;32m   3463\u001b[0m     \u001b[0;32mif\u001b[0m \u001b[0mself\u001b[0m\u001b[0;34m.\u001b[0m\u001b[0mfeed_dict\u001b[0m\u001b[0;34m:\u001b[0m\u001b[0;34m\u001b[0m\u001b[0;34m\u001b[0m\u001b[0m\n",
      "\u001b[0;32m/opt/miniconda3/envs/tf1.15.2/lib/python3.7/site-packages/numpy/core/_asarray.py\u001b[0m in \u001b[0;36masarray\u001b[0;34m(a, dtype, order)\u001b[0m\n\u001b[1;32m     83\u001b[0m \u001b[0;34m\u001b[0m\u001b[0m\n\u001b[1;32m     84\u001b[0m     \"\"\"\n\u001b[0;32m---> 85\u001b[0;31m     \u001b[0;32mreturn\u001b[0m \u001b[0marray\u001b[0m\u001b[0;34m(\u001b[0m\u001b[0ma\u001b[0m\u001b[0;34m,\u001b[0m \u001b[0mdtype\u001b[0m\u001b[0;34m,\u001b[0m \u001b[0mcopy\u001b[0m\u001b[0;34m=\u001b[0m\u001b[0;32mFalse\u001b[0m\u001b[0;34m,\u001b[0m \u001b[0morder\u001b[0m\u001b[0;34m=\u001b[0m\u001b[0morder\u001b[0m\u001b[0;34m)\u001b[0m\u001b[0;34m\u001b[0m\u001b[0;34m\u001b[0m\u001b[0m\n\u001b[0m\u001b[1;32m     86\u001b[0m \u001b[0;34m\u001b[0m\u001b[0m\n\u001b[1;32m     87\u001b[0m \u001b[0;34m\u001b[0m\u001b[0m\n",
      "\u001b[0;31mKeyboardInterrupt\u001b[0m: "
     ]
    }
   ],
   "source": [
    "import time\n",
    "\n",
    "model = build_func_model()\n",
    "model.summary()\n",
    "\n",
    "tp = \"ABE\"\n",
    "now = str(int(time.time()))\n",
    "\n",
    "checkpoint_filepath = 'crispr/models/validation/structure_net-{}-{}.h5'.format(tp, now)\n",
    "print(checkpoint_filepath)\n",
    "model_checkpoint_callback = tf.keras.callbacks.ModelCheckpoint(\n",
    "    filepath=checkpoint_filepath,\n",
    "    save_weights_only=False,\n",
    "    monitor='val_loss',\n",
    "    mode='min',\n",
    "    save_best_only=True)\n",
    "\n",
    "es = tf.keras.callbacks.EarlyStopping(monitor='val_loss', mode='min', verbose=1, patience=10)\n",
    "history = model.fit(x=X_train_dz[:,50-n:51+n,:], y=Y_train_dz, epochs=100, batch_size = 4096, validation_data = [X_test_dz[:,50-n:51+n,:], Y_test_dz], callbacks=[model_checkpoint_callback], use_multiprocessing=True)"
   ]
  },
  {
   "cell_type": "code",
   "execution_count": 13,
   "metadata": {},
   "outputs": [
    {
     "name": "stdout",
     "output_type": "stream",
     "text": [
      "WARNING:tensorflow:From /opt/miniconda3/envs/tf1.15.2/lib/python3.7/site-packages/tensorflow_core/python/ops/init_ops.py:97: calling GlorotUniform.__init__ (from tensorflow.python.ops.init_ops) with dtype is deprecated and will be removed in a future version.\n",
      "Instructions for updating:\n",
      "Call initializer instance with the dtype argument instead of passing it to the constructor\n",
      "WARNING:tensorflow:From /opt/miniconda3/envs/tf1.15.2/lib/python3.7/site-packages/tensorflow_core/python/ops/init_ops.py:97: calling Zeros.__init__ (from tensorflow.python.ops.init_ops) with dtype is deprecated and will be removed in a future version.\n",
      "Instructions for updating:\n",
      "Call initializer instance with the dtype argument instead of passing it to the constructor\n",
      "WARNING:tensorflow:From /opt/miniconda3/envs/tf1.15.2/lib/python3.7/site-packages/tensorflow_core/python/ops/init_ops.py:97: calling Ones.__init__ (from tensorflow.python.ops.init_ops) with dtype is deprecated and will be removed in a future version.\n",
      "Instructions for updating:\n",
      "Call initializer instance with the dtype argument instead of passing it to the constructor\n",
      "Model: \"sequential\"\n",
      "_________________________________________________________________\n",
      "Layer (type)                 Output Shape              Param #   \n",
      "=================================================================\n",
      "conv1d (Conv1D)              (None, 101, 128)          49280     \n",
      "_________________________________________________________________\n",
      "batch_normalization (BatchNo (None, 101, 128)          512       \n",
      "_________________________________________________________________\n",
      "dropout (Dropout)            (None, 101, 128)          0         \n",
      "_________________________________________________________________\n",
      "conv1d_1 (Conv1D)            (None, 101, 64)           32832     \n",
      "_________________________________________________________________\n",
      "batch_normalization_1 (Batch (None, 101, 64)           256       \n",
      "_________________________________________________________________\n",
      "dropout_1 (Dropout)          (None, 101, 64)           0         \n",
      "_________________________________________________________________\n",
      "conv1d_2 (Conv1D)            (None, 101, 100)          25700     \n",
      "_________________________________________________________________\n",
      "batch_normalization_2 (Batch (None, 101, 100)          400       \n",
      "_________________________________________________________________\n",
      "dropout_2 (Dropout)          (None, 101, 100)          0         \n",
      "_________________________________________________________________\n",
      "max_pooling1d (MaxPooling1D) (None, 51, 100)           0         \n",
      "_________________________________________________________________\n",
      "conv1d_3 (Conv1D)            (None, 51, 100)           80100     \n",
      "_________________________________________________________________\n",
      "batch_normalization_3 (Batch (None, 51, 100)           400       \n",
      "_________________________________________________________________\n",
      "dropout_3 (Dropout)          (None, 51, 100)           0         \n",
      "_________________________________________________________________\n",
      "conv1d_4 (Conv1D)            (None, 51, 50)            20050     \n",
      "_________________________________________________________________\n",
      "batch_normalization_4 (Batch (None, 51, 50)            200       \n",
      "_________________________________________________________________\n",
      "dropout_4 (Dropout)          (None, 51, 50)            0         \n",
      "_________________________________________________________________\n",
      "max_pooling1d_1 (MaxPooling1 (None, 17, 50)            0         \n",
      "_________________________________________________________________\n",
      "conv1d_5 (Conv1D)            (None, 17, 100)           20100     \n",
      "_________________________________________________________________\n",
      "batch_normalization_5 (Batch (None, 17, 100)           400       \n",
      "_________________________________________________________________\n",
      "dropout_5 (Dropout)          (None, 17, 100)           0         \n",
      "_________________________________________________________________\n",
      "max_pooling1d_2 (MaxPooling1 (None, 5, 100)            0         \n",
      "_________________________________________________________________\n",
      "conv1d_6 (Conv1D)            (None, 5, 100)            80100     \n",
      "_________________________________________________________________\n",
      "batch_normalization_6 (Batch (None, 5, 100)            400       \n",
      "_________________________________________________________________\n",
      "dropout_6 (Dropout)          (None, 5, 100)            0         \n",
      "_________________________________________________________________\n",
      "flatten (Flatten)            (None, 500)               0         \n",
      "_________________________________________________________________\n",
      "dense (Dense)                (None, 32)                16032     \n",
      "_________________________________________________________________\n",
      "batch_normalization_7 (Batch (None, 32)                128       \n",
      "_________________________________________________________________\n",
      "dropout_7 (Dropout)          (None, 32)                0         \n",
      "_________________________________________________________________\n",
      "dense_1 (Dense)              (None, 1)                 33        \n",
      "=================================================================\n",
      "Total params: 326,923\n",
      "Trainable params: 325,575\n",
      "Non-trainable params: 1,348\n",
      "_________________________________________________________________\n",
      "crispr/models/validation/structure_net-ABE-1603828683.h5\n"
     ]
    }
   ],
   "source": [
    "model = tf.keras.models.load_model(checkpoint_filepath)\n",
    "model.summary()\n",
    "\n",
    "print(checkpoint_filepath)"
   ]
  },
  {
   "cell_type": "code",
   "execution_count": 14,
   "metadata": {},
   "outputs": [],
   "source": [
    "Y_pred = model.predict(X_test_dz[:,50-n:51+n,:], batch_size=4096)"
   ]
  },
  {
   "cell_type": "code",
   "execution_count": 15,
   "metadata": {},
   "outputs": [
    {
     "name": "stdout",
     "output_type": "stream",
     "text": [
      "(166671, 1)\n",
      "(166671, 1)\n"
     ]
    }
   ],
   "source": [
    "print(Y_pred.shape)\n",
    "print(Y_test_dz.shape)\n"
   ]
  },
  {
   "cell_type": "code",
   "execution_count": 16,
   "metadata": {},
   "outputs": [
    {
     "name": "stdout",
     "output_type": "stream",
     "text": [
      "0.0\n"
     ]
    }
   ],
   "source": [
    "print(np.median(Y_test_dz))"
   ]
  },
  {
   "cell_type": "code",
   "execution_count": 17,
   "metadata": {},
   "outputs": [],
   "source": [
    "Y_test_dz = Y_test_dz.reshape(Y_test_dz.shape[0], 1)"
   ]
  },
  {
   "cell_type": "code",
   "execution_count": 18,
   "metadata": {},
   "outputs": [
    {
     "name": "stdout",
     "output_type": "stream",
     "text": [
      "Spearman Coeff:\t0.3525974794119911\n",
      "Pearson Coeff:\t0.5345057489296693\n"
     ]
    }
   ],
   "source": [
    "import scipy\n",
    "print(\"Spearman Coeff:\\t\"+str(getSpearman(Y_pred, Y_test_dz)[0]))\n",
    "print(\"Pearson Coeff:\\t\"+str(scipy.stats.pearsonr(Y_pred.flatten(), Y_test_dz.flatten())[0]))"
   ]
  },
  {
   "cell_type": "code",
   "execution_count": 19,
   "metadata": {},
   "outputs": [],
   "source": [
    "def getSlope(test, pred):\n",
    "    return np.polyfit(test, pred, 1)    \n",
    "def rmse(test, pred):\n",
    "    return np.sqrt(np.mean((test-pred)**2))"
   ]
  },
  {
   "cell_type": "code",
   "execution_count": 20,
   "metadata": {},
   "outputs": [],
   "source": [
    "m, b = getSlope(Y_pred.flatten(), Y_test_dz.flatten())"
   ]
  },
  {
   "cell_type": "code",
   "execution_count": 21,
   "metadata": {},
   "outputs": [
    {
     "name": "stdout",
     "output_type": "stream",
     "text": [
      "0.9193382810001139\n",
      "0.0008010831108565113\n"
     ]
    }
   ],
   "source": [
    "print(m)\n",
    "print(b)"
   ]
  },
  {
   "cell_type": "code",
   "execution_count": null,
   "metadata": {},
   "outputs": [],
   "source": []
  },
  {
   "cell_type": "code",
   "execution_count": 22,
   "metadata": {},
   "outputs": [],
   "source": [
    "from scipy.stats import kde\n",
    "import matplotlib.pyplot as plt\n",
    "nbins=150\n",
    "x = Y_pred.flatten()\n",
    "y = Y_test_dz.flatten()\n",
    "k = kde.gaussian_kde([x,y])\n",
    "xi, yi = np.mgrid[x.min():x.max():nbins*1j, y.min():y.max():nbins*1j]\n",
    "zi = k(np.vstack([xi.flatten(), yi.flatten()]))"
   ]
  },
  {
   "cell_type": "code",
   "execution_count": 23,
   "metadata": {},
   "outputs": [
    {
     "name": "stdout",
     "output_type": "stream",
     "text": [
      "3.591247258765708e-11\n"
     ]
    }
   ],
   "source": [
    "print(np.median(zi))"
   ]
  },
  {
   "cell_type": "code",
   "execution_count": 26,
   "metadata": {},
   "outputs": [
    {
     "data": {
      "image/png": "[encoded data removed]",
      "text/plain": [
       "<Figure size 432x288 with 1 Axes>"
      ]
     },
     "metadata": {},
     "output_type": "display_data"
    },
    {
     "name": "stdout",
     "output_type": "stream",
     "text": [
      "Spearman Coeff:\t0.3525974794119911\n",
      "Pearson Coeff: 0.5345057489296693\n",
      "RMSE: 0.02897769843978701\n"
     ]
    }
   ],
   "source": [
    "from matplotlib import colors\n",
    "import matplotlib\n",
    "plt.style.use(['dark_background'])\n",
    "exp = \"158B Chrom 20-X\"\n",
    "plt.axis('square')\n",
    "plt.ylabel(\"Observed from Experiment {}\".format(exp))\n",
    "plt.xlabel(\"Predicted from Experiment {}\".format(exp))\n",
    "plt.title(\"ABE ConvNet w/ Seq and Structure\")\n",
    "plt.xlim(0,1)\n",
    "plt.ylim(0,1)\n",
    "plt.pcolormesh(xi, yi, zi.reshape(xi.shape),cmap=plt.cm.inferno, norm=matplotlib.colors.LogNorm(vmin=1e-2), snap=False)\n",
    "plt.show()\n",
    "import scipy\n",
    "print(\"Spearman Coeff:\\t\"+str(getSpearman(Y_pred, Y_test_dz)[0]))\n",
    "print(\"Pearson Coeff: \"+str(scipy.stats.pearsonr(Y_pred.flatten(), Y_test_dz.flatten())[0]))\n",
    "print(\"RMSE: {}\".format(rmse(Y_pred.flatten(), Y_test_dz.flatten())))"
   ]
  },
  {
   "cell_type": "code",
   "execution_count": 27,
   "metadata": {},
   "outputs": [
    {
     "name": "stdout",
     "output_type": "stream",
     "text": [
      "0.012207149740626666\n",
      "0.013325501136970437\n"
     ]
    }
   ],
   "source": [
    "print(np.mean(Y_train_dz))\n",
    "print(np.mean(Y_test_dz))"
   ]
  }
 ],
 "metadata": {
  "kernelspec": {
   "display_name": "Python [conda env:tf1.15.2]",
   "language": "python",
   "name": "conda-env-tf1.15.2-py"
  },
  "language_info": {
   "codemirror_mode": {
    "name": "ipython",
    "version": 3
   },
   "file_extension": ".py",
   "mimetype": "text/x-python",
   "name": "python",
   "nbconvert_exporter": "python",
   "pygments_lexer": "ipython3",
   "version": "3.7.7"
  }
 },
 "nbformat": 4,
 "nbformat_minor": 4
}
